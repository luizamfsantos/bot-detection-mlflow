{
 "cells": [
  {
   "cell_type": "markdown",
   "metadata": {
    "id": "Yx-VxT_wzXi6"
   },
   "source": [
    "# Avaliação e validação de experimentos\n"
   ]
  },
  {
   "cell_type": "code",
   "execution_count": null,
   "metadata": {
    "id": "XOr-9WVsYEhE"
   },
   "outputs": [],
   "source": [
    "import numpy as np\n",
    "import pandas as pd"
   ]
  },
  {
   "cell_type": "code",
   "execution_count": null,
   "metadata": {},
   "outputs": [],
   "source": [
    "# Semente aleatória para reproducibilidade dos experimentos (reproducão dos experimentos)\n",
    "\n",
    "SEED = 17"
   ]
  },
  {
   "cell_type": "markdown",
   "metadata": {
    "id": "eRMkhwVvzH2W"
   },
   "source": [
    "Durante o curso, trabalharemos ba base de dados [Automobile](https://archive.ics.uci.edu/ml/datasets/Automobile) da UCI.  Esta base contém características de diversos automóveis e o risco (em termos de seguro) de cada um deles.  Consideraremos que as bases estão armazenadas em um arquivo [CSV](https://en.wikipedia.org/wiki/Comma-separated_values).\n",
    "\n",
    "> Não esqueça de carregar o arquivo `imports85.csv` antes de rodar o código abaixo."
   ]
  },
  {
   "cell_type": "code",
   "execution_count": null,
   "metadata": {
    "colab": {
     "base_uri": "https://localhost:8080/"
    },
    "id": "16GH5n9j1T59",
    "outputId": "c6f1e61c-a23f-4e8e-dc0b-b285a74b0dad"
   },
   "outputs": [],
   "source": [
    "df_raw = pd.read_csv('data/imports85.csv')\n",
    "print(df_raw.shape)"
   ]
  },
  {
   "cell_type": "code",
   "execution_count": null,
   "metadata": {
    "colab": {
     "base_uri": "https://localhost:8080/"
    },
    "id": "vvAb7rI2WvXJ",
    "outputId": "3d4e6b7e-de0d-4f74-d2a4-c80a215369c3"
   },
   "outputs": [],
   "source": [
    "df_raw.head(15).T"
   ]
  },
  {
   "cell_type": "code",
   "execution_count": null,
   "metadata": {},
   "outputs": [],
   "source": [
    "# Remover os \"?\" e colocar nan no lugar, converter as colunas para float\n",
    "\n",
    "df = df_raw.replace(\"?\", np.nan).apply(pd.to_numeric, errors=\"ignore\")\n",
    "\n",
    "df.info()\n",
    "# df.head().T"
   ]
  },
  {
   "cell_type": "code",
   "execution_count": null,
   "metadata": {
    "colab": {
     "base_uri": "https://localhost:8080/"
    },
    "id": "mB6fuQG4Wyjr",
    "outputId": "09e68a44-3eba-4040-a044-938b0ee24bf5"
   },
   "outputs": [],
   "source": [
    "# To simplify the code, we will only use numeric features\n",
    "\n",
    "X = df.drop(columns=['symboling', 'normalizedlosses', 'numofcylinders', 'numofdoors'])\n",
    "X = X.select_dtypes(exclude=['object'])\n",
    "\n",
    "\n",
    "yreg = df.symboling\n",
    "ycla = yreg > 0\n",
    "\n",
    "print(X.shape)"
   ]
  },
  {
   "cell_type": "markdown",
   "metadata": {
    "id": "3i6HRNX6_Rv0"
   },
   "source": [
    "## Classificação"
   ]
  },
  {
   "cell_type": "code",
   "execution_count": null,
   "metadata": {
    "id": "F2Jj5yQMzeoB"
   },
   "outputs": [],
   "source": [
    "from sklearn.neighbors import KNeighborsClassifier\n",
    "from sklearn.tree import DecisionTreeClassifier\n",
    "from sklearn.naive_bayes import GaussianNB\n",
    "from sklearn.svm import SVC\n",
    "from sklearn.neural_network import MLPClassifier\n",
    "\n",
    "from sklearn.pipeline import Pipeline\n",
    "\n",
    "from sklearn.impute import SimpleImputer\n",
    "from sklearn.preprocessing import MinMaxScaler, StandardScaler\n",
    "from sklearn.feature_selection import VarianceThreshold, SelectKBest\n",
    "from sklearn.decomposition import PCA\n",
    "\n",
    "from sklearn.model_selection import GridSearchCV, StratifiedKFold\n",
    "from sklearn.metrics import accuracy_score, precision_score, recall_score, f1_score\n",
    "from sklearn.metrics import make_scorer"
   ]
  },
  {
   "cell_type": "code",
   "execution_count": null,
   "metadata": {
    "id": "KfxgDLw00yh2"
   },
   "outputs": [],
   "source": [
    "scorer = make_scorer(accuracy_score) # Teste outras\n",
    "\n",
    "cv = StratifiedKFold(n_splits=15, shuffle=True, random_state=SEED)\n",
    "gscv = StratifiedKFold(n_splits=3, shuffle=True, random_state=SEED)\n",
    "\n",
    "algorithms = {\n",
    "    'kNN':  GridSearchCV(\n",
    "        Pipeline([\n",
    "            ('imputer', SimpleImputer(strategy='mean')),\n",
    "            ('scaler', MinMaxScaler(feature_range=(0, 1))),\n",
    "            ('selector', VarianceThreshold()),\n",
    "            ('knn', KNeighborsClassifier())]),\n",
    "        param_grid={\n",
    "            'selector__threshold': [0, 0.01, 0.02, 0.03],\n",
    "            'knn__n_neighbors': [1, 3, 5],\n",
    "            'knn__p': [1, 2],\n",
    "        },\n",
    "        scoring=scorer,\n",
    "        cv=gscv),\n",
    "\n",
    "\n",
    "    'tree':  GridSearchCV(\n",
    "        Pipeline([\n",
    "            ('imputer', SimpleImputer(strategy='mean')),\n",
    "            ('tree', DecisionTreeClassifier(random_state=SEED))]),\n",
    "        param_grid={\n",
    "            'tree__max_depth': [5, 10, 20],\n",
    "            'tree__criterion': ['entropy', 'gini'],\n",
    "        },\n",
    "        scoring=scorer,\n",
    "        cv=gscv),\n",
    "\n",
    "\n",
    "    'bigtree':  GridSearchCV(\n",
    "        Pipeline([\n",
    "            ('imputer', SimpleImputer(strategy='mean')),\n",
    "            ('tree', DecisionTreeClassifier(max_depth=None, min_samples_split=2, random_state=SEED))]),\n",
    "        param_grid={\n",
    "            'tree__criterion': ['entropy', 'gini'],\n",
    "        },\n",
    "        scoring=scorer,\n",
    "        cv=gscv),\n",
    "\n",
    "\n",
    "    'nb': GridSearchCV(\n",
    "        Pipeline([\n",
    "            ('imputer', SimpleImputer(strategy='mean')),\n",
    "            ('selector', SelectKBest()),\n",
    "            ('nb', GaussianNB())]),\n",
    "        param_grid={\n",
    "            'selector__k': [3, 5, 10],\n",
    "        },\n",
    "        scoring=scorer,\n",
    "        cv=gscv),\n",
    "\n",
    "\n",
    "    'svmlinear': GridSearchCV(\n",
    "        Pipeline([\n",
    "            ('imputer', SimpleImputer(strategy='mean')),\n",
    "            ('scaler', StandardScaler()),\n",
    "            ('pca', PCA()),\n",
    "            ('svm', SVC(kernel='linear', random_state=SEED))]),\n",
    "        param_grid={\n",
    "            'pca__n_components': [2, 5, 10],\n",
    "            'svm__C': [1.0, 2.0],\n",
    "        },\n",
    "        scoring=scorer,\n",
    "        cv=gscv),\n",
    "\n",
    "        \n",
    "    'svmrbf': GridSearchCV(\n",
    "        Pipeline([\n",
    "            ('imputer', SimpleImputer(strategy='mean')),\n",
    "            ('scaler', StandardScaler()),\n",
    "            ('pca', PCA(random_state=SEED)),\n",
    "            ('svm', SVC(kernel='rbf', random_state=SEED))]),\n",
    "        param_grid={\n",
    "            'pca__n_components': [2, 5, 10],\n",
    "            'svm__C': [1.0, 2.0],\n",
    "            'svm__gamma': [0.1, 1.0, 2.0],\n",
    "        },\n",
    "        scoring=scorer,\n",
    "        cv=gscv),\n",
    "}"
   ]
  },
  {
   "cell_type": "code",
   "execution_count": null,
   "metadata": {
    "id": "Xpvrx3kqyUii"
   },
   "outputs": [],
   "source": [
    "from sklearn.model_selection import cross_val_score\n",
    "\n",
    "result = {}\n",
    "for alg, clf in algorithms.items():\n",
    "  result[alg] = cross_val_score(clf, X, ycla, cv=cv)\n",
    "\n",
    "result = pd.DataFrame.from_dict(result)"
   ]
  },
  {
   "cell_type": "code",
   "execution_count": null,
   "metadata": {
    "colab": {
     "base_uri": "https://localhost:8080/"
    },
    "id": "KMPeyps98u-h",
    "outputId": "bdcbe8e8-5eaf-4c3e-8af5-6ff20d491853"
   },
   "outputs": [],
   "source": [
    "print(result)"
   ]
  },
  {
   "cell_type": "code",
   "execution_count": null,
   "metadata": {
    "colab": {
     "base_uri": "https://localhost:8080/"
    },
    "id": "SM30PiZ1-XGc",
    "outputId": "bd41c614-cd05-43ef-a5a0-72e6bbcef1a3"
   },
   "outputs": [],
   "source": [
    "result.apply(lambda x: \"{:.2f} ± {:.2f}\".format(x.mean(), x.std()))"
   ]
  },
  {
   "cell_type": "code",
   "execution_count": null,
   "metadata": {
    "colab": {
     "base_uri": "https://localhost:8080/",
     "height": 265
    },
    "id": "KP68kAyaFEt_",
    "outputId": "3221547c-f30b-43a7-b103-da7ce73c2964"
   },
   "outputs": [],
   "source": [
    "import matplotlib.pyplot as plt\n",
    "\n",
    "plt.boxplot([ scores for alg, scores in result.items()])\n",
    "plt.xticks(1 + np.arange(result.shape[1]), result.columns)\n",
    "\n",
    "plt.axhline(1, linestyle=\"dotted\", color=\"green\")\n",
    "plt.ylim(0,1.05)  # Nao mentir com dados para os coleguinhas\n",
    "\n",
    "plt.show()"
   ]
  },
  {
   "cell_type": "markdown",
   "metadata": {
    "id": "0zlgn3fVDrQi"
   },
   "source": [
    "## Comparar desempenho (validar hipótese)"
   ]
  },
  {
   "cell_type": "code",
   "execution_count": null,
   "metadata": {
    "id": "6WFFH35QDxR1"
   },
   "outputs": [],
   "source": [
    "from scipy.stats import wilcoxon"
   ]
  },
  {
   "cell_type": "code",
   "execution_count": null,
   "metadata": {
    "colab": {
     "base_uri": "https://localhost:8080/"
    },
    "id": "5UrI5aU6D4ZC",
    "outputId": "6a7d3419-159e-4965-9ed6-792edde66a09"
   },
   "outputs": [],
   "source": [
    "# Comparar dois algoritmos:\n",
    "wilcoxon(result.kNN, result.tree)"
   ]
  },
  {
   "cell_type": "code",
   "execution_count": null,
   "metadata": {
    "id": "DLHdUzTYEGiH"
   },
   "outputs": [],
   "source": [
    "# Comparar todos contra todos: Friedman + Nemenyi (further reading), construir um diagrama de diferença crítica\n",
    "# Orange3"
   ]
  },
  {
   "cell_type": "markdown",
   "metadata": {
    "id": "RRUDVlyiDtuH"
   },
   "source": [
    "## Melhor modelo (deploying)"
   ]
  },
  {
   "cell_type": "code",
   "execution_count": null,
   "metadata": {
    "colab": {
     "base_uri": "https://localhost:8080/"
    },
    "id": "1bgVLxH9Nyf5",
    "outputId": "34cd631b-4e08-4317-c44f-3a15e35ab1d3"
   },
   "outputs": [],
   "source": [
    "classifier = algorithms['bigtree']\n",
    "classifier.fit(X, ycla) # Uso a base toda!\n",
    "print(classifier.best_estimator_)"
   ]
  },
  {
   "cell_type": "code",
   "execution_count": null,
   "metadata": {
    "colab": {
     "base_uri": "https://localhost:8080/"
    },
    "id": "GT4rioUGNixI",
    "outputId": "9f0fffe1-2c39-408e-a553-90c48ad363b2"
   },
   "outputs": [],
   "source": [
    "x = X.iloc[0:1, :]\n",
    "print(x) # Faz de conta que é novo"
   ]
  },
  {
   "cell_type": "code",
   "execution_count": null,
   "metadata": {
    "colab": {
     "base_uri": "https://localhost:8080/"
    },
    "id": "XphiSnDpNewh",
    "outputId": "007a6100-1f9d-4e3c-e976-b86d430a0cfe"
   },
   "outputs": [],
   "source": [
    "classifier.predict(x)"
   ]
  },
  {
   "cell_type": "markdown",
   "metadata": {
    "id": "XHxqT_ZqO2B0"
   },
   "source": [
    "### Um outro modelo"
   ]
  },
  {
   "cell_type": "code",
   "execution_count": null,
   "metadata": {
    "colab": {
     "base_uri": "https://localhost:8080/"
    },
    "id": "wBx2lp6CO3ke",
    "outputId": "cd35e25b-b09b-4dfb-b37a-afb0fb312425"
   },
   "outputs": [],
   "source": [
    "classifier = algorithms['svmrbf']\n",
    "classifier.fit(X, ycla) # Uso a base toda\n",
    "print(classifier.best_estimator_)"
   ]
  },
  {
   "cell_type": "code",
   "execution_count": null,
   "metadata": {
    "colab": {
     "base_uri": "https://localhost:8080/"
    },
    "id": "50YFEZEoPAQI",
    "outputId": "fda62756-2ad0-41fc-b9af-d11a0e9711d5"
   },
   "outputs": [],
   "source": [
    "print(x)\n",
    "x.iloc[0, 13] = np.nan\n",
    "print(x)\n",
    "classifier.predict(x)"
   ]
  },
  {
   "cell_type": "markdown",
   "metadata": {
    "id": "fRfrZqkIB8x6"
   },
   "source": [
    "## Regressão"
   ]
  },
  {
   "cell_type": "code",
   "execution_count": null,
   "metadata": {
    "id": "5y1MJV7uCbA3"
   },
   "outputs": [],
   "source": [
    "from sklearn.neighbors import KNeighborsRegressor\n",
    "from sklearn.tree import DecisionTreeRegressor\n",
    "from sklearn.svm import SVR\n",
    "from sklearn.neural_network import MLPRegressor\n",
    "\n",
    "from sklearn.pipeline import Pipeline\n",
    "\n",
    "from sklearn.impute import SimpleImputer\n",
    "from sklearn.preprocessing import MinMaxScaler, StandardScaler\n",
    "from sklearn.feature_selection import VarianceThreshold, SelectKBest\n",
    "from sklearn.decomposition import PCA\n",
    "\n",
    "from sklearn.model_selection import GridSearchCV, KFold\n",
    "from sklearn.metrics import mean_squared_error, mean_absolute_error\n",
    "from sklearn.metrics import make_scorer"
   ]
  },
  {
   "cell_type": "code",
   "execution_count": null,
   "metadata": {
    "id": "g66E48CzDAHK"
   },
   "outputs": [],
   "source": [
    "scorer = make_scorer(mean_squared_error, greater_is_better=False)\n",
    "algorithms = {}"
   ]
  }
 ],
 "metadata": {
  "colab": {
   "provenance": []
  },
  "kernelspec": {
   "display_name": ".venv",
   "language": "python",
   "name": "python3"
  },
  "language_info": {
   "codemirror_mode": {
    "name": "ipython",
    "version": 3
   },
   "file_extension": ".py",
   "mimetype": "text/x-python",
   "name": "python",
   "nbconvert_exporter": "python",
   "pygments_lexer": "ipython3",
   "version": "3.11.8"
  }
 },
 "nbformat": 4,
 "nbformat_minor": 0
}
