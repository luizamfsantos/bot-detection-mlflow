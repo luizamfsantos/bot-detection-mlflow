{
 "cells": [
  {
   "cell_type": "code",
   "execution_count": null,
   "metadata": {},
   "outputs": [],
   "source": [
    "import pandas as pd\n",
    "import numpy as np\n",
    "import os\n",
    "import pickle\n",
    "\n",
    "from typing import Any"
   ]
  },
  {
   "cell_type": "markdown",
   "metadata": {},
   "source": [
    "#### ATENCAO: Rodar uma vez para positivos e outra para negativos"
   ]
  },
  {
   "cell_type": "code",
   "execution_count": null,
   "metadata": {},
   "outputs": [],
   "source": [
    "arquivos = []\n",
    "caminho_pasta = \"data/po233_stars/negatives\"\n",
    "\n",
    "for arquivo in os.listdir(caminho_pasta):\n",
    "    caminho_arquivo = os.path.join(caminho_pasta, arquivo)\n",
    "\n",
    "    with open(caminho_arquivo, \"rb\") as f:\n",
    "        raw_data:list[dict[str,Any]] = pickle.load(f)\n",
    "        arquivos.append(raw_data)\n",
    "\n",
    "\n",
    "\n",
    "# arquivo é uma lista com 500 dicionarios e cada dicionario é uma linha do df final"
   ]
  },
  {
   "cell_type": "code",
   "execution_count": null,
   "metadata": {},
   "outputs": [],
   "source": [
    "len(arquivos)"
   ]
  },
  {
   "cell_type": "code",
   "execution_count": null,
   "metadata": {},
   "outputs": [],
   "source": [
    "arquivos[0]"
   ]
  },
  {
   "cell_type": "code",
   "execution_count": null,
   "metadata": {},
   "outputs": [],
   "source": [
    "numero = ['rajd', 'decjd', 'bary_period', 'topo_period', 'dm', 'snr', 'width', 'accn', 'hits', 'rank', 'fftsnr']\n",
    "disperso = ['subints', 'subbands', 'profile', 'period_index', 'accn_values']\n",
    "concentrado = ['dm_index', 'dm_values', 'dm_curve_snr_values', 'accn_curve_snr_values']\n",
    "\n",
    "pre_df = []\n",
    "\n",
    "for arquivo in arquivos:\n",
    "    for dici in arquivo:\n",
    "        linha = []\n",
    "        for key, value in dici.items():\n",
    "            if key in numero:\n",
    "                linha.append(value)\n",
    "            elif key in disperso:\n",
    "                linha.append(np.median(value))\n",
    "            elif key in concentrado:\n",
    "                linha.append(np.mean(value))\n",
    "            else:\n",
    "                bum\n",
    "        pre_df.append(linha)\n",
    "    \n",
    "\n",
    "\n"
   ]
  },
  {
   "cell_type": "code",
   "execution_count": null,
   "metadata": {},
   "outputs": [],
   "source": [
    "cols = ['rajd', 'decjd', 'bary_period', 'topo_period', 'dm', 'snr', 'width', 'subints', 'subbands', 'profile', 'dm_index', 'period_index', 'accn', 'hits', 'rank', 'fftsnr', 'dm_values', 'dm_curve_snr_values', 'accn_values', 'accn_curve_snr_values']\n",
    "\n",
    "df = pd.DataFrame(pre_df, columns=cols)\n",
    "\n",
    "df.T"
   ]
  },
  {
   "cell_type": "markdown",
   "metadata": {},
   "source": [
    "#### Ajustar aqui:"
   ]
  },
  {
   "cell_type": "code",
   "execution_count": null,
   "metadata": {},
   "outputs": [],
   "source": [
    "df[\"pulsar\"] = 0\n",
    "df.to_csv(\"negatives.csv\", index=False)"
   ]
  },
  {
   "cell_type": "code",
   "execution_count": null,
   "metadata": {},
   "outputs": [],
   "source": [
    "df.info()"
   ]
  },
  {
   "cell_type": "markdown",
   "metadata": {},
   "source": [
    "## Segunda etapa"
   ]
  },
  {
   "cell_type": "code",
   "execution_count": null,
   "metadata": {},
   "outputs": [],
   "source": [
    "posi = pd.read_csv(\"positives.csv\")\n",
    "nega = pd.read_csv(\"negatives.csv\")\n"
   ]
  },
  {
   "cell_type": "code",
   "execution_count": null,
   "metadata": {},
   "outputs": [],
   "source": [
    "posi.info()"
   ]
  },
  {
   "cell_type": "code",
   "execution_count": null,
   "metadata": {},
   "outputs": [],
   "source": [
    "nega.info()"
   ]
  },
  {
   "cell_type": "code",
   "execution_count": null,
   "metadata": {},
   "outputs": [],
   "source": [
    "df_final = pd.concat([posi, nega], ignore_index=True)\n",
    "\n",
    "df_final.T\n"
   ]
  },
  {
   "cell_type": "code",
   "execution_count": null,
   "metadata": {},
   "outputs": [],
   "source": [
    "df_final.info()"
   ]
  },
  {
   "cell_type": "code",
   "execution_count": null,
   "metadata": {},
   "outputs": [],
   "source": [
    "df_final.to_csv(\"stars_complete.csv\", index=False)"
   ]
  },
  {
   "cell_type": "code",
   "execution_count": null,
   "metadata": {},
   "outputs": [],
   "source": []
  }
 ],
 "metadata": {
  "kernelspec": {
   "display_name": ".venv",
   "language": "python",
   "name": "python3"
  },
  "language_info": {
   "codemirror_mode": {
    "name": "ipython",
    "version": 3
   },
   "file_extension": ".py",
   "mimetype": "text/x-python",
   "name": "python",
   "nbconvert_exporter": "python",
   "pygments_lexer": "ipython3",
   "version": "3.11.8"
  }
 },
 "nbformat": 4,
 "nbformat_minor": 2
}
