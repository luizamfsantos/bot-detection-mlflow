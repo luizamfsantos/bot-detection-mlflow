{
 "cells": [
  {
   "cell_type": "markdown",
   "metadata": {
    "id": "Yx-VxT_wzXi6"
   },
   "source": [
    "# Avaliação e validação de experimentos\n"
   ]
  },
  {
   "cell_type": "code",
   "execution_count": null,
   "metadata": {
    "id": "XOr-9WVsYEhE"
   },
   "outputs": [],
   "source": [
    "import numpy as np\n",
    "import pandas as pd"
   ]
  },
  {
   "cell_type": "code",
   "execution_count": null,
   "metadata": {},
   "outputs": [],
   "source": [
    "# Semente aleatória para reproducibilidade dos experimentos (reproducão dos experimentos)\n",
    "\n",
    "SEED = 17"
   ]
  },
  {
   "cell_type": "code",
   "execution_count": null,
   "metadata": {
    "colab": {
     "base_uri": "https://localhost:8080/"
    },
    "id": "16GH5n9j1T59",
    "outputId": "c6f1e61c-a23f-4e8e-dc0b-b285a74b0dad"
   },
   "outputs": [],
   "source": [
    "df_raw = pd.read_csv('data/stars_complete.csv')\n",
    "\n",
    "print(df_raw.shape)"
   ]
  },
  {
   "cell_type": "code",
   "execution_count": null,
   "metadata": {
    "colab": {
     "base_uri": "https://localhost:8080/"
    },
    "id": "vvAb7rI2WvXJ",
    "outputId": "3d4e6b7e-de0d-4f74-d2a4-c80a215369c3"
   },
   "outputs": [],
   "source": [
    "df_raw.head(9).T"
   ]
  },
  {
   "cell_type": "code",
   "execution_count": null,
   "metadata": {},
   "outputs": [],
   "source": [
    "df_raw.info()\n",
    "df_raw.describe().T\n"
   ]
  },
  {
   "cell_type": "code",
   "execution_count": null,
   "metadata": {},
   "outputs": [],
   "source": [
    "# COLUNAS QUE PRECISAM DE ATENCAO\n",
    "# subints: remover outliers\n",
    "# subbands: remover outliers\n",
    "# profile: normalizar\n",
    "\n",
    "def remove_outliers(df_raw: pd.DataFrame, col_names: list[str], min:float = 0.25, max:float = 0.75) -> pd.DataFrame:\n",
    "    \n",
    "    rows_list = pd.Series(True, index=df_raw.index)\n",
    "\n",
    "    for col_name in col_names:\n",
    "        q1 = df_raw[col_name].quantile(min)\n",
    "        q3 = df_raw[col_name].quantile(max)\n",
    "        iqr = q3 - q1\n",
    "\n",
    "        limite_inferior = q1 - 1.5 * iqr\n",
    "        limite_superior = q3 + 1.5 * iqr\n",
    "\n",
    "        batata = (df_raw[col_name] >= limite_inferior) & (df_raw[col_name] <= limite_superior)\n",
    "\n",
    "        rows_list &= batata\n",
    "\n",
    "    return df_raw[rows_list]\n",
    "\n",
    "\n",
    "colunas = [\"subints\", \"profile\", \"subbands\"]\n",
    "df_filtered = remove_outliers(df_raw, colunas)\n",
    "\n",
    "df_filtered.describe().T\n",
    "\n"
   ]
  },
  {
   "cell_type": "code",
   "execution_count": null,
   "metadata": {},
   "outputs": [],
   "source": [
    "# # ATENCAO\n",
    "# # subbands ficou tudo zero apoós remover outliers, conferir se esse atributo eh importante\n",
    "# df_filtered = df_filtered.drop(columns=\"subbands\")\n",
    "\n",
    "\n",
    "# # A coluna \"profile\" esta variando de mais (min 5.260601e+96, max 1.203514e+98)\n",
    "# from sklearn.preprocessing import PowerTransformer\n",
    "\n",
    "# pt = PowerTransformer(method='yeo-johnson')\n",
    "# df_filtered['profile'] = pt.fit_transform(df_filtered[['profile']])\n",
    "\n",
    "# df_filtered.describe().T"
   ]
  },
  {
   "cell_type": "code",
   "execution_count": null,
   "metadata": {},
   "outputs": [],
   "source": [
    "# # Perdemos muito tempo com essas colunas problematicas, removerei elas\n",
    "# colunas = [\"subints\", \"profile\", \"subbands\"]\n",
    "# df = df_filtered.drop(columns=colunas)\n",
    "\n",
    "\n",
    "# Remover algumas colunas aleatorias para dificultar o problema\n",
    "disperso = ['subints', 'subbands', 'profile', 'period_index', 'accn_values']\n",
    "concentrado = ['dm_index', 'dm_values', 'dm_curve_snr_values']#, 'accn_curve_snr_values']\n",
    "numero = ['rajd', 'decjd', 'bary_period', 'topo_period', 'dm', 'snr', 'width', 'accn', 'hits', 'rank']#, 'fftsnr']\n",
    "\n",
    "df = df_filtered.drop(columns=disperso+concentrado+numero)\n",
    "\n",
    "df.shape\n"
   ]
  },
  {
   "cell_type": "code",
   "execution_count": null,
   "metadata": {},
   "outputs": [],
   "source": [
    "from sklearn.model_selection import train_test_split\n",
    "\n",
    "df, _ = train_test_split(df, train_size=1000, stratify=df[\"pulsar\"], random_state=SEED)\n",
    "\n",
    "df.shape"
   ]
  },
  {
   "cell_type": "code",
   "execution_count": null,
   "metadata": {
    "colab": {
     "base_uri": "https://localhost:8080/"
    },
    "id": "mB6fuQG4Wyjr",
    "outputId": "09e68a44-3eba-4040-a044-938b0ee24bf5"
   },
   "outputs": [],
   "source": [
    "# To simplify the code, we will only use numeric features\n",
    "\n",
    "X = df.drop(columns=\"pulsar\")\n",
    "\n",
    "yreg = df.pulsar\n",
    "ycla = yreg > 0\n",
    "\n",
    "print(X.shape)"
   ]
  },
  {
   "cell_type": "markdown",
   "metadata": {
    "id": "3i6HRNX6_Rv0"
   },
   "source": [
    "## Classificação"
   ]
  },
  {
   "cell_type": "code",
   "execution_count": null,
   "metadata": {
    "id": "F2Jj5yQMzeoB"
   },
   "outputs": [],
   "source": [
    "from sklearn.neighbors import KNeighborsClassifier\n",
    "from sklearn.tree import DecisionTreeClassifier\n",
    "from sklearn.naive_bayes import GaussianNB\n",
    "from sklearn.svm import SVC\n",
    "from sklearn.neural_network import MLPClassifier\n",
    "\n",
    "from sklearn.pipeline import Pipeline\n",
    "\n",
    "from sklearn.impute import SimpleImputer\n",
    "from sklearn.preprocessing import MinMaxScaler, StandardScaler\n",
    "from sklearn.feature_selection import VarianceThreshold, SelectKBest\n",
    "from sklearn.decomposition import PCA\n",
    "\n",
    "from sklearn.model_selection import GridSearchCV, StratifiedKFold\n",
    "from sklearn.metrics import accuracy_score, precision_score, recall_score, f1_score\n",
    "from sklearn.metrics import make_scorer"
   ]
  },
  {
   "cell_type": "code",
   "execution_count": null,
   "metadata": {
    "id": "KfxgDLw00yh2"
   },
   "outputs": [],
   "source": [
    "scorer = make_scorer(accuracy_score) # Teste outras\n",
    "\n",
    "cv = StratifiedKFold(n_splits=15, shuffle=True, random_state=SEED)\n",
    "gscv = StratifiedKFold(n_splits=3, shuffle=True, random_state=SEED)\n",
    "\n",
    "algorithms = {\n",
    "    'kNN':  GridSearchCV(\n",
    "        Pipeline([\n",
    "            ('imputer', SimpleImputer(strategy='mean')),\n",
    "            ('scaler', MinMaxScaler(feature_range=(0, 1))),\n",
    "            ('selector', VarianceThreshold()),\n",
    "            ('knn', KNeighborsClassifier())]),\n",
    "        param_grid={\n",
    "            'selector__threshold': [0, 0.01, 0.02, 0.03],\n",
    "            'knn__n_neighbors': [1, 3, 5],\n",
    "            'knn__p': [1, 2],\n",
    "        },\n",
    "        scoring=scorer,\n",
    "        cv=gscv),\n",
    "\n",
    "\n",
    "    'tree':  GridSearchCV(\n",
    "        Pipeline([\n",
    "            ('imputer', SimpleImputer(strategy='mean')),\n",
    "            ('tree', DecisionTreeClassifier(random_state=SEED))]),\n",
    "        param_grid={\n",
    "            'tree__max_depth': [5, 10, 20],\n",
    "            'tree__criterion': ['entropy', 'gini'],\n",
    "        },\n",
    "        scoring=scorer,\n",
    "        cv=gscv),\n",
    "\n",
    "\n",
    "    'bigtree':  GridSearchCV(\n",
    "        Pipeline([\n",
    "            ('imputer', SimpleImputer(strategy='mean')),\n",
    "            ('tree', DecisionTreeClassifier(max_depth=None, min_samples_split=2, random_state=SEED))]),\n",
    "        param_grid={\n",
    "            'tree__criterion': ['entropy', 'gini'],\n",
    "        },\n",
    "        scoring=scorer,\n",
    "        cv=gscv),\n",
    "\n",
    "\n",
    "    'nb': GridSearchCV(\n",
    "        Pipeline([\n",
    "            ('imputer', SimpleImputer(strategy='mean')),\n",
    "            ('selector', SelectKBest()),\n",
    "            ('nb', GaussianNB())]),\n",
    "        param_grid={\n",
    "            'selector__k': [3, 5, 10],\n",
    "        },\n",
    "        scoring=scorer,\n",
    "        cv=gscv),\n",
    "\n",
    "\n",
    "    'svmlinear': GridSearchCV(\n",
    "        Pipeline([\n",
    "            ('imputer', SimpleImputer(strategy='mean')),\n",
    "            ('scaler', StandardScaler()),\n",
    "            ('pca', PCA()),\n",
    "            ('svm', SVC(kernel='linear', random_state=SEED))]),\n",
    "        param_grid={\n",
    "            'pca__n_components': [2, 5, 10],\n",
    "            'svm__C': [1.0, 2.0],\n",
    "        },\n",
    "        scoring=scorer,\n",
    "        cv=gscv),\n",
    "\n",
    "        \n",
    "    'svmrbf': GridSearchCV(\n",
    "        Pipeline([\n",
    "            ('imputer', SimpleImputer(strategy='mean')),\n",
    "            ('scaler', StandardScaler()),\n",
    "            ('pca', PCA(random_state=SEED)),\n",
    "            ('svm', SVC(kernel='rbf', random_state=SEED))]),\n",
    "        param_grid={\n",
    "            'pca__n_components': [2, 5, 10],\n",
    "            'svm__C': [1.0, 2.0],\n",
    "            'svm__gamma': [0.1, 1.0, 2.0],\n",
    "        },\n",
    "        scoring=scorer,\n",
    "        cv=gscv),\n",
    "}"
   ]
  },
  {
   "cell_type": "code",
   "execution_count": null,
   "metadata": {
    "id": "Xpvrx3kqyUii"
   },
   "outputs": [],
   "source": [
    "from sklearn.model_selection import cross_val_score\n",
    "\n",
    "result = {}\n",
    "for alg, clf in algorithms.items():\n",
    "  result[alg] = cross_val_score(clf, X, ycla, cv=cv)\n",
    "\n",
    "result = pd.DataFrame.from_dict(result)\n"
   ]
  },
  {
   "cell_type": "code",
   "execution_count": null,
   "metadata": {
    "colab": {
     "base_uri": "https://localhost:8080/"
    },
    "id": "KMPeyps98u-h",
    "outputId": "bdcbe8e8-5eaf-4c3e-8af5-6ff20d491853"
   },
   "outputs": [],
   "source": [
    "print(result)"
   ]
  },
  {
   "cell_type": "code",
   "execution_count": null,
   "metadata": {
    "colab": {
     "base_uri": "https://localhost:8080/"
    },
    "id": "SM30PiZ1-XGc",
    "outputId": "bd41c614-cd05-43ef-a5a0-72e6bbcef1a3"
   },
   "outputs": [],
   "source": [
    "result.apply(lambda x: \"{:.2f} ± {:.2f}\".format(x.mean(), x.std()))"
   ]
  },
  {
   "cell_type": "code",
   "execution_count": null,
   "metadata": {
    "colab": {
     "base_uri": "https://localhost:8080/",
     "height": 265
    },
    "id": "KP68kAyaFEt_",
    "outputId": "3221547c-f30b-43a7-b103-da7ce73c2964"
   },
   "outputs": [],
   "source": [
    "import matplotlib.pyplot as plt\n",
    "\n",
    "plt.boxplot([ scores for alg, scores in result.items()])\n",
    "plt.xticks(1 + np.arange(result.shape[1]), result.columns)\n",
    "\n",
    "plt.axhline(1, linestyle=\"dotted\", color=\"green\")\n",
    "# plt.ylim(0,1.05)  # Nao mentir com dados para os coleguinhas\n",
    "\n",
    "plt.show()"
   ]
  }
 ],
 "metadata": {
  "colab": {
   "provenance": []
  },
  "kernelspec": {
   "display_name": ".venv",
   "language": "python",
   "name": "python3"
  },
  "language_info": {
   "codemirror_mode": {
    "name": "ipython",
    "version": 3
   },
   "file_extension": ".py",
   "mimetype": "text/x-python",
   "name": "python",
   "nbconvert_exporter": "python",
   "pygments_lexer": "ipython3",
   "version": "3.11.8"
  }
 },
 "nbformat": 4,
 "nbformat_minor": 0
}
