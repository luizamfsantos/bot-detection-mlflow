{
  "cells": [
    {
      "cell_type": "markdown",
      "metadata": {
        "id": "Yx-VxT_wzXi6"
      },
      "source": [
        "# Avaliação e validação de experimentos\n"
      ]
    },
    {
      "cell_type": "code",
      "execution_count": 1,
      "metadata": {
        "id": "XOr-9WVsYEhE"
      },
      "outputs": [],
      "source": [
        "import numpy as np\n",
        "import pandas as pd"
      ]
    },
    {
      "cell_type": "code",
      "execution_count": 2,
      "metadata": {},
      "outputs": [],
      "source": [
        "# Semente aleatória para reproducibilidade dos experimentos (reproducão dos experimentos)\n",
        "\n",
        "SEED = 17"
      ]
    },
    {
      "cell_type": "markdown",
      "metadata": {
        "id": "eRMkhwVvzH2W"
      },
      "source": [
        "Durante o curso, trabalharemos ba base de dados [Automobile](https://archive.ics.uci.edu/ml/datasets/Automobile) da UCI.  Esta base contém características de diversos automóveis e o risco (em termos de seguro) de cada um deles.  Consideraremos que as bases estão armazenadas em um arquivo [CSV](https://en.wikipedia.org/wiki/Comma-separated_values).\n",
        "\n",
        "> Não esqueça de carregar o arquivo `imports85.csv` antes de rodar o código abaixo."
      ]
    },
    {
      "cell_type": "code",
      "execution_count": 3,
      "metadata": {
        "colab": {
          "base_uri": "https://localhost:8080/"
        },
        "id": "16GH5n9j1T59",
        "outputId": "c6f1e61c-a23f-4e8e-dc0b-b285a74b0dad"
      },
      "outputs": [
        {
          "name": "stdout",
          "output_type": "stream",
          "text": [
            "(205, 26)\n"
          ]
        }
      ],
      "source": [
        "df_raw = pd.read_csv('data/imports85.csv')\n",
        "print(df_raw.shape)"
      ]
    },
    {
      "cell_type": "code",
      "execution_count": 4,
      "metadata": {
        "colab": {
          "base_uri": "https://localhost:8080/"
        },
        "id": "vvAb7rI2WvXJ",
        "outputId": "3d4e6b7e-de0d-4f74-d2a4-c80a215369c3"
      },
      "outputs": [
        {
          "data": {
            "text/html": [
              "<div>\n",
              "<style scoped>\n",
              "    .dataframe tbody tr th:only-of-type {\n",
              "        vertical-align: middle;\n",
              "    }\n",
              "\n",
              "    .dataframe tbody tr th {\n",
              "        vertical-align: top;\n",
              "    }\n",
              "\n",
              "    .dataframe thead th {\n",
              "        text-align: right;\n",
              "    }\n",
              "</style>\n",
              "<table border=\"1\" class=\"dataframe\">\n",
              "  <thead>\n",
              "    <tr style=\"text-align: right;\">\n",
              "      <th></th>\n",
              "      <th>0</th>\n",
              "      <th>1</th>\n",
              "      <th>2</th>\n",
              "      <th>3</th>\n",
              "      <th>4</th>\n",
              "      <th>5</th>\n",
              "      <th>6</th>\n",
              "      <th>7</th>\n",
              "      <th>8</th>\n",
              "      <th>9</th>\n",
              "      <th>10</th>\n",
              "      <th>11</th>\n",
              "      <th>12</th>\n",
              "      <th>13</th>\n",
              "      <th>14</th>\n",
              "    </tr>\n",
              "  </thead>\n",
              "  <tbody>\n",
              "    <tr>\n",
              "      <th>symboling</th>\n",
              "      <td>3</td>\n",
              "      <td>3</td>\n",
              "      <td>1</td>\n",
              "      <td>2</td>\n",
              "      <td>2</td>\n",
              "      <td>2</td>\n",
              "      <td>1</td>\n",
              "      <td>1</td>\n",
              "      <td>1</td>\n",
              "      <td>0</td>\n",
              "      <td>2</td>\n",
              "      <td>0</td>\n",
              "      <td>0</td>\n",
              "      <td>0</td>\n",
              "      <td>1</td>\n",
              "    </tr>\n",
              "    <tr>\n",
              "      <th>normalizedlosses</th>\n",
              "      <td>?</td>\n",
              "      <td>?</td>\n",
              "      <td>?</td>\n",
              "      <td>164</td>\n",
              "      <td>164</td>\n",
              "      <td>?</td>\n",
              "      <td>158</td>\n",
              "      <td>?</td>\n",
              "      <td>158</td>\n",
              "      <td>?</td>\n",
              "      <td>192</td>\n",
              "      <td>192</td>\n",
              "      <td>188</td>\n",
              "      <td>188</td>\n",
              "      <td>?</td>\n",
              "    </tr>\n",
              "    <tr>\n",
              "      <th>make</th>\n",
              "      <td>alfa-romero</td>\n",
              "      <td>alfa-romero</td>\n",
              "      <td>alfa-romero</td>\n",
              "      <td>audi</td>\n",
              "      <td>audi</td>\n",
              "      <td>audi</td>\n",
              "      <td>audi</td>\n",
              "      <td>audi</td>\n",
              "      <td>audi</td>\n",
              "      <td>audi</td>\n",
              "      <td>bmw</td>\n",
              "      <td>bmw</td>\n",
              "      <td>bmw</td>\n",
              "      <td>bmw</td>\n",
              "      <td>bmw</td>\n",
              "    </tr>\n",
              "    <tr>\n",
              "      <th>fueltype</th>\n",
              "      <td>gas</td>\n",
              "      <td>gas</td>\n",
              "      <td>gas</td>\n",
              "      <td>gas</td>\n",
              "      <td>gas</td>\n",
              "      <td>gas</td>\n",
              "      <td>gas</td>\n",
              "      <td>gas</td>\n",
              "      <td>gas</td>\n",
              "      <td>gas</td>\n",
              "      <td>gas</td>\n",
              "      <td>gas</td>\n",
              "      <td>gas</td>\n",
              "      <td>gas</td>\n",
              "      <td>gas</td>\n",
              "    </tr>\n",
              "    <tr>\n",
              "      <th>aspiration</th>\n",
              "      <td>std</td>\n",
              "      <td>std</td>\n",
              "      <td>std</td>\n",
              "      <td>std</td>\n",
              "      <td>std</td>\n",
              "      <td>std</td>\n",
              "      <td>std</td>\n",
              "      <td>std</td>\n",
              "      <td>turbo</td>\n",
              "      <td>turbo</td>\n",
              "      <td>std</td>\n",
              "      <td>std</td>\n",
              "      <td>std</td>\n",
              "      <td>std</td>\n",
              "      <td>std</td>\n",
              "    </tr>\n",
              "    <tr>\n",
              "      <th>numofdoors</th>\n",
              "      <td>two</td>\n",
              "      <td>two</td>\n",
              "      <td>two</td>\n",
              "      <td>four</td>\n",
              "      <td>four</td>\n",
              "      <td>two</td>\n",
              "      <td>four</td>\n",
              "      <td>four</td>\n",
              "      <td>four</td>\n",
              "      <td>two</td>\n",
              "      <td>two</td>\n",
              "      <td>four</td>\n",
              "      <td>two</td>\n",
              "      <td>four</td>\n",
              "      <td>four</td>\n",
              "    </tr>\n",
              "    <tr>\n",
              "      <th>bodystyle</th>\n",
              "      <td>convertible</td>\n",
              "      <td>convertible</td>\n",
              "      <td>hatchback</td>\n",
              "      <td>sedan</td>\n",
              "      <td>sedan</td>\n",
              "      <td>sedan</td>\n",
              "      <td>sedan</td>\n",
              "      <td>wagon</td>\n",
              "      <td>sedan</td>\n",
              "      <td>hatchback</td>\n",
              "      <td>sedan</td>\n",
              "      <td>sedan</td>\n",
              "      <td>sedan</td>\n",
              "      <td>sedan</td>\n",
              "      <td>sedan</td>\n",
              "    </tr>\n",
              "    <tr>\n",
              "      <th>drivewheels</th>\n",
              "      <td>rwd</td>\n",
              "      <td>rwd</td>\n",
              "      <td>rwd</td>\n",
              "      <td>fwd</td>\n",
              "      <td>4wd</td>\n",
              "      <td>fwd</td>\n",
              "      <td>fwd</td>\n",
              "      <td>fwd</td>\n",
              "      <td>fwd</td>\n",
              "      <td>4wd</td>\n",
              "      <td>rwd</td>\n",
              "      <td>rwd</td>\n",
              "      <td>rwd</td>\n",
              "      <td>rwd</td>\n",
              "      <td>rwd</td>\n",
              "    </tr>\n",
              "    <tr>\n",
              "      <th>enginelocation</th>\n",
              "      <td>front</td>\n",
              "      <td>front</td>\n",
              "      <td>front</td>\n",
              "      <td>front</td>\n",
              "      <td>front</td>\n",
              "      <td>front</td>\n",
              "      <td>front</td>\n",
              "      <td>front</td>\n",
              "      <td>front</td>\n",
              "      <td>front</td>\n",
              "      <td>front</td>\n",
              "      <td>front</td>\n",
              "      <td>front</td>\n",
              "      <td>front</td>\n",
              "      <td>front</td>\n",
              "    </tr>\n",
              "    <tr>\n",
              "      <th>wheelbase</th>\n",
              "      <td>88.6</td>\n",
              "      <td>88.6</td>\n",
              "      <td>94.5</td>\n",
              "      <td>99.8</td>\n",
              "      <td>99.4</td>\n",
              "      <td>99.8</td>\n",
              "      <td>105.8</td>\n",
              "      <td>105.8</td>\n",
              "      <td>105.8</td>\n",
              "      <td>99.5</td>\n",
              "      <td>101.2</td>\n",
              "      <td>101.2</td>\n",
              "      <td>101.2</td>\n",
              "      <td>101.2</td>\n",
              "      <td>103.5</td>\n",
              "    </tr>\n",
              "    <tr>\n",
              "      <th>length</th>\n",
              "      <td>168.8</td>\n",
              "      <td>168.8</td>\n",
              "      <td>171.2</td>\n",
              "      <td>176.6</td>\n",
              "      <td>176.6</td>\n",
              "      <td>177.3</td>\n",
              "      <td>192.7</td>\n",
              "      <td>192.7</td>\n",
              "      <td>192.7</td>\n",
              "      <td>178.2</td>\n",
              "      <td>176.8</td>\n",
              "      <td>176.8</td>\n",
              "      <td>176.8</td>\n",
              "      <td>176.8</td>\n",
              "      <td>189.0</td>\n",
              "    </tr>\n",
              "    <tr>\n",
              "      <th>width</th>\n",
              "      <td>64.1</td>\n",
              "      <td>64.1</td>\n",
              "      <td>65.5</td>\n",
              "      <td>66.2</td>\n",
              "      <td>66.4</td>\n",
              "      <td>66.3</td>\n",
              "      <td>71.4</td>\n",
              "      <td>71.4</td>\n",
              "      <td>71.4</td>\n",
              "      <td>67.9</td>\n",
              "      <td>64.8</td>\n",
              "      <td>64.8</td>\n",
              "      <td>64.8</td>\n",
              "      <td>64.8</td>\n",
              "      <td>66.9</td>\n",
              "    </tr>\n",
              "    <tr>\n",
              "      <th>height</th>\n",
              "      <td>48.8</td>\n",
              "      <td>48.8</td>\n",
              "      <td>52.4</td>\n",
              "      <td>54.3</td>\n",
              "      <td>54.3</td>\n",
              "      <td>53.1</td>\n",
              "      <td>55.7</td>\n",
              "      <td>55.7</td>\n",
              "      <td>55.9</td>\n",
              "      <td>52.0</td>\n",
              "      <td>54.3</td>\n",
              "      <td>54.3</td>\n",
              "      <td>54.3</td>\n",
              "      <td>54.3</td>\n",
              "      <td>55.7</td>\n",
              "    </tr>\n",
              "    <tr>\n",
              "      <th>curbweight</th>\n",
              "      <td>2548</td>\n",
              "      <td>2548</td>\n",
              "      <td>2823</td>\n",
              "      <td>2337</td>\n",
              "      <td>2824</td>\n",
              "      <td>2507</td>\n",
              "      <td>2844</td>\n",
              "      <td>2954</td>\n",
              "      <td>3086</td>\n",
              "      <td>3053</td>\n",
              "      <td>2395</td>\n",
              "      <td>2395</td>\n",
              "      <td>2710</td>\n",
              "      <td>2765</td>\n",
              "      <td>3055</td>\n",
              "    </tr>\n",
              "    <tr>\n",
              "      <th>enginetype</th>\n",
              "      <td>dohc</td>\n",
              "      <td>dohc</td>\n",
              "      <td>ohcv</td>\n",
              "      <td>ohc</td>\n",
              "      <td>ohc</td>\n",
              "      <td>ohc</td>\n",
              "      <td>ohc</td>\n",
              "      <td>ohc</td>\n",
              "      <td>ohc</td>\n",
              "      <td>ohc</td>\n",
              "      <td>ohc</td>\n",
              "      <td>ohc</td>\n",
              "      <td>ohc</td>\n",
              "      <td>ohc</td>\n",
              "      <td>ohc</td>\n",
              "    </tr>\n",
              "    <tr>\n",
              "      <th>numofcylinders</th>\n",
              "      <td>four</td>\n",
              "      <td>four</td>\n",
              "      <td>six</td>\n",
              "      <td>four</td>\n",
              "      <td>five</td>\n",
              "      <td>five</td>\n",
              "      <td>five</td>\n",
              "      <td>five</td>\n",
              "      <td>five</td>\n",
              "      <td>five</td>\n",
              "      <td>four</td>\n",
              "      <td>four</td>\n",
              "      <td>six</td>\n",
              "      <td>six</td>\n",
              "      <td>six</td>\n",
              "    </tr>\n",
              "    <tr>\n",
              "      <th>enginesize</th>\n",
              "      <td>130</td>\n",
              "      <td>130</td>\n",
              "      <td>152</td>\n",
              "      <td>109</td>\n",
              "      <td>136</td>\n",
              "      <td>136</td>\n",
              "      <td>136</td>\n",
              "      <td>136</td>\n",
              "      <td>131</td>\n",
              "      <td>131</td>\n",
              "      <td>108</td>\n",
              "      <td>108</td>\n",
              "      <td>164</td>\n",
              "      <td>164</td>\n",
              "      <td>164</td>\n",
              "    </tr>\n",
              "    <tr>\n",
              "      <th>fuelsystem</th>\n",
              "      <td>mpfi</td>\n",
              "      <td>mpfi</td>\n",
              "      <td>mpfi</td>\n",
              "      <td>mpfi</td>\n",
              "      <td>mpfi</td>\n",
              "      <td>mpfi</td>\n",
              "      <td>mpfi</td>\n",
              "      <td>mpfi</td>\n",
              "      <td>mpfi</td>\n",
              "      <td>mpfi</td>\n",
              "      <td>mpfi</td>\n",
              "      <td>mpfi</td>\n",
              "      <td>mpfi</td>\n",
              "      <td>mpfi</td>\n",
              "      <td>mpfi</td>\n",
              "    </tr>\n",
              "    <tr>\n",
              "      <th>bore</th>\n",
              "      <td>3.47</td>\n",
              "      <td>3.47</td>\n",
              "      <td>2.68</td>\n",
              "      <td>3.19</td>\n",
              "      <td>3.19</td>\n",
              "      <td>3.19</td>\n",
              "      <td>3.19</td>\n",
              "      <td>3.19</td>\n",
              "      <td>3.13</td>\n",
              "      <td>3.13</td>\n",
              "      <td>3.50</td>\n",
              "      <td>3.50</td>\n",
              "      <td>3.31</td>\n",
              "      <td>3.31</td>\n",
              "      <td>3.31</td>\n",
              "    </tr>\n",
              "    <tr>\n",
              "      <th>stroke</th>\n",
              "      <td>2.68</td>\n",
              "      <td>2.68</td>\n",
              "      <td>3.47</td>\n",
              "      <td>3.40</td>\n",
              "      <td>3.40</td>\n",
              "      <td>3.40</td>\n",
              "      <td>3.40</td>\n",
              "      <td>3.40</td>\n",
              "      <td>3.40</td>\n",
              "      <td>3.40</td>\n",
              "      <td>2.80</td>\n",
              "      <td>2.80</td>\n",
              "      <td>3.19</td>\n",
              "      <td>3.19</td>\n",
              "      <td>3.19</td>\n",
              "    </tr>\n",
              "    <tr>\n",
              "      <th>compressionratio</th>\n",
              "      <td>9.0</td>\n",
              "      <td>9.0</td>\n",
              "      <td>9.0</td>\n",
              "      <td>10.0</td>\n",
              "      <td>8.0</td>\n",
              "      <td>8.5</td>\n",
              "      <td>8.5</td>\n",
              "      <td>8.5</td>\n",
              "      <td>8.3</td>\n",
              "      <td>7.0</td>\n",
              "      <td>8.8</td>\n",
              "      <td>8.8</td>\n",
              "      <td>9.0</td>\n",
              "      <td>9.0</td>\n",
              "      <td>9.0</td>\n",
              "    </tr>\n",
              "    <tr>\n",
              "      <th>horsepower</th>\n",
              "      <td>111</td>\n",
              "      <td>111</td>\n",
              "      <td>154</td>\n",
              "      <td>102</td>\n",
              "      <td>115</td>\n",
              "      <td>110</td>\n",
              "      <td>110</td>\n",
              "      <td>110</td>\n",
              "      <td>140</td>\n",
              "      <td>160</td>\n",
              "      <td>101</td>\n",
              "      <td>101</td>\n",
              "      <td>121</td>\n",
              "      <td>121</td>\n",
              "      <td>121</td>\n",
              "    </tr>\n",
              "    <tr>\n",
              "      <th>peakrpm</th>\n",
              "      <td>5000</td>\n",
              "      <td>5000</td>\n",
              "      <td>5000</td>\n",
              "      <td>5500</td>\n",
              "      <td>5500</td>\n",
              "      <td>5500</td>\n",
              "      <td>5500</td>\n",
              "      <td>5500</td>\n",
              "      <td>5500</td>\n",
              "      <td>5500</td>\n",
              "      <td>5800</td>\n",
              "      <td>5800</td>\n",
              "      <td>4250</td>\n",
              "      <td>4250</td>\n",
              "      <td>4250</td>\n",
              "    </tr>\n",
              "    <tr>\n",
              "      <th>citympg</th>\n",
              "      <td>21</td>\n",
              "      <td>21</td>\n",
              "      <td>19</td>\n",
              "      <td>24</td>\n",
              "      <td>18</td>\n",
              "      <td>19</td>\n",
              "      <td>19</td>\n",
              "      <td>19</td>\n",
              "      <td>17</td>\n",
              "      <td>16</td>\n",
              "      <td>23</td>\n",
              "      <td>23</td>\n",
              "      <td>21</td>\n",
              "      <td>21</td>\n",
              "      <td>20</td>\n",
              "    </tr>\n",
              "    <tr>\n",
              "      <th>highwaympg</th>\n",
              "      <td>27</td>\n",
              "      <td>27</td>\n",
              "      <td>26</td>\n",
              "      <td>30</td>\n",
              "      <td>22</td>\n",
              "      <td>25</td>\n",
              "      <td>25</td>\n",
              "      <td>25</td>\n",
              "      <td>20</td>\n",
              "      <td>22</td>\n",
              "      <td>29</td>\n",
              "      <td>29</td>\n",
              "      <td>28</td>\n",
              "      <td>28</td>\n",
              "      <td>25</td>\n",
              "    </tr>\n",
              "    <tr>\n",
              "      <th>price</th>\n",
              "      <td>13495</td>\n",
              "      <td>16500</td>\n",
              "      <td>16500</td>\n",
              "      <td>13950</td>\n",
              "      <td>17450</td>\n",
              "      <td>15250</td>\n",
              "      <td>17710</td>\n",
              "      <td>18920</td>\n",
              "      <td>23875</td>\n",
              "      <td>?</td>\n",
              "      <td>16430</td>\n",
              "      <td>16925</td>\n",
              "      <td>20970</td>\n",
              "      <td>21105</td>\n",
              "      <td>24565</td>\n",
              "    </tr>\n",
              "  </tbody>\n",
              "</table>\n",
              "</div>"
            ],
            "text/plain": [
              "                           0            1            2      3      4      5   \\\n",
              "symboling                   3            3            1      2      2      2   \n",
              "normalizedlosses            ?            ?            ?    164    164      ?   \n",
              "make              alfa-romero  alfa-romero  alfa-romero   audi   audi   audi   \n",
              "fueltype                  gas          gas          gas    gas    gas    gas   \n",
              "aspiration                std          std          std    std    std    std   \n",
              "numofdoors                two          two          two   four   four    two   \n",
              "bodystyle         convertible  convertible    hatchback  sedan  sedan  sedan   \n",
              "drivewheels               rwd          rwd          rwd    fwd    4wd    fwd   \n",
              "enginelocation          front        front        front  front  front  front   \n",
              "wheelbase                88.6         88.6         94.5   99.8   99.4   99.8   \n",
              "length                  168.8        168.8        171.2  176.6  176.6  177.3   \n",
              "width                    64.1         64.1         65.5   66.2   66.4   66.3   \n",
              "height                   48.8         48.8         52.4   54.3   54.3   53.1   \n",
              "curbweight               2548         2548         2823   2337   2824   2507   \n",
              "enginetype               dohc         dohc         ohcv    ohc    ohc    ohc   \n",
              "numofcylinders           four         four          six   four   five   five   \n",
              "enginesize                130          130          152    109    136    136   \n",
              "fuelsystem               mpfi         mpfi         mpfi   mpfi   mpfi   mpfi   \n",
              "bore                     3.47         3.47         2.68   3.19   3.19   3.19   \n",
              "stroke                   2.68         2.68         3.47   3.40   3.40   3.40   \n",
              "compressionratio          9.0          9.0          9.0   10.0    8.0    8.5   \n",
              "horsepower                111          111          154    102    115    110   \n",
              "peakrpm                  5000         5000         5000   5500   5500   5500   \n",
              "citympg                    21           21           19     24     18     19   \n",
              "highwaympg                 27           27           26     30     22     25   \n",
              "price                   13495        16500        16500  13950  17450  15250   \n",
              "\n",
              "                     6      7      8          9      10     11     12     13  \\\n",
              "symboling             1      1      1          0      2      0      0      0   \n",
              "normalizedlosses    158      ?    158          ?    192    192    188    188   \n",
              "make               audi   audi   audi       audi    bmw    bmw    bmw    bmw   \n",
              "fueltype            gas    gas    gas        gas    gas    gas    gas    gas   \n",
              "aspiration          std    std  turbo      turbo    std    std    std    std   \n",
              "numofdoors         four   four   four        two    two   four    two   four   \n",
              "bodystyle         sedan  wagon  sedan  hatchback  sedan  sedan  sedan  sedan   \n",
              "drivewheels         fwd    fwd    fwd        4wd    rwd    rwd    rwd    rwd   \n",
              "enginelocation    front  front  front      front  front  front  front  front   \n",
              "wheelbase         105.8  105.8  105.8       99.5  101.2  101.2  101.2  101.2   \n",
              "length            192.7  192.7  192.7      178.2  176.8  176.8  176.8  176.8   \n",
              "width              71.4   71.4   71.4       67.9   64.8   64.8   64.8   64.8   \n",
              "height             55.7   55.7   55.9       52.0   54.3   54.3   54.3   54.3   \n",
              "curbweight         2844   2954   3086       3053   2395   2395   2710   2765   \n",
              "enginetype          ohc    ohc    ohc        ohc    ohc    ohc    ohc    ohc   \n",
              "numofcylinders     five   five   five       five   four   four    six    six   \n",
              "enginesize          136    136    131        131    108    108    164    164   \n",
              "fuelsystem         mpfi   mpfi   mpfi       mpfi   mpfi   mpfi   mpfi   mpfi   \n",
              "bore               3.19   3.19   3.13       3.13   3.50   3.50   3.31   3.31   \n",
              "stroke             3.40   3.40   3.40       3.40   2.80   2.80   3.19   3.19   \n",
              "compressionratio    8.5    8.5    8.3        7.0    8.8    8.8    9.0    9.0   \n",
              "horsepower          110    110    140        160    101    101    121    121   \n",
              "peakrpm            5500   5500   5500       5500   5800   5800   4250   4250   \n",
              "citympg              19     19     17         16     23     23     21     21   \n",
              "highwaympg           25     25     20         22     29     29     28     28   \n",
              "price             17710  18920  23875          ?  16430  16925  20970  21105   \n",
              "\n",
              "                     14  \n",
              "symboling             1  \n",
              "normalizedlosses      ?  \n",
              "make                bmw  \n",
              "fueltype            gas  \n",
              "aspiration          std  \n",
              "numofdoors         four  \n",
              "bodystyle         sedan  \n",
              "drivewheels         rwd  \n",
              "enginelocation    front  \n",
              "wheelbase         103.5  \n",
              "length            189.0  \n",
              "width              66.9  \n",
              "height             55.7  \n",
              "curbweight         3055  \n",
              "enginetype          ohc  \n",
              "numofcylinders      six  \n",
              "enginesize          164  \n",
              "fuelsystem         mpfi  \n",
              "bore               3.31  \n",
              "stroke             3.19  \n",
              "compressionratio    9.0  \n",
              "horsepower          121  \n",
              "peakrpm            4250  \n",
              "citympg              20  \n",
              "highwaympg           25  \n",
              "price             24565  "
            ]
          },
          "execution_count": 4,
          "metadata": {},
          "output_type": "execute_result"
        }
      ],
      "source": [
        "df_raw.head(15).T"
      ]
    },
    {
      "cell_type": "code",
      "execution_count": 5,
      "metadata": {},
      "outputs": [
        {
          "name": "stdout",
          "output_type": "stream",
          "text": [
            "<class 'pandas.core.frame.DataFrame'>\n",
            "RangeIndex: 205 entries, 0 to 204\n",
            "Data columns (total 26 columns):\n",
            " #   Column            Non-Null Count  Dtype  \n",
            "---  ------            --------------  -----  \n",
            " 0   symboling         205 non-null    int64  \n",
            " 1   normalizedlosses  164 non-null    float64\n",
            " 2   make              205 non-null    object \n",
            " 3   fueltype          205 non-null    object \n",
            " 4   aspiration        205 non-null    object \n",
            " 5   numofdoors        203 non-null    object \n",
            " 6   bodystyle         205 non-null    object \n",
            " 7   drivewheels       205 non-null    object \n",
            " 8   enginelocation    205 non-null    object \n",
            " 9   wheelbase         205 non-null    float64\n",
            " 10  length            205 non-null    float64\n",
            " 11  width             205 non-null    float64\n",
            " 12  height            205 non-null    float64\n",
            " 13  curbweight        205 non-null    int64  \n",
            " 14  enginetype        205 non-null    object \n",
            " 15  numofcylinders    205 non-null    object \n",
            " 16  enginesize        205 non-null    int64  \n",
            " 17  fuelsystem        205 non-null    object \n",
            " 18  bore              201 non-null    float64\n",
            " 19  stroke            201 non-null    float64\n",
            " 20  compressionratio  205 non-null    float64\n",
            " 21  horsepower        203 non-null    float64\n",
            " 22  peakrpm           203 non-null    float64\n",
            " 23  citympg           205 non-null    int64  \n",
            " 24  highwaympg        205 non-null    int64  \n",
            " 25  price             201 non-null    float64\n",
            "dtypes: float64(11), int64(5), object(10)\n",
            "memory usage: 41.8+ KB\n"
          ]
        },
        {
          "name": "stderr",
          "output_type": "stream",
          "text": [
            "/var/folders/c6/vss0yj1j115_3ykhy6lb4kcw0000gn/T/ipykernel_7841/668123047.py:3: FutureWarning: errors='ignore' is deprecated and will raise in a future version. Use to_numeric without passing `errors` and catch exceptions explicitly instead\n",
            "  df = df_raw.replace(\"?\", np.nan).apply(pd.to_numeric, errors=\"ignore\")\n"
          ]
        }
      ],
      "source": [
        "# Remover os \"?\" e colocar nan no lugar, converter as colunas para float\n",
        "\n",
        "df = df_raw.replace(\"?\", np.nan).apply(pd.to_numeric, errors=\"ignore\")\n",
        "\n",
        "df.info()\n",
        "# df.head().T"
      ]
    },
    {
      "cell_type": "code",
      "execution_count": 6,
      "metadata": {
        "colab": {
          "base_uri": "https://localhost:8080/"
        },
        "id": "mB6fuQG4Wyjr",
        "outputId": "09e68a44-3eba-4040-a044-938b0ee24bf5"
      },
      "outputs": [
        {
          "name": "stdout",
          "output_type": "stream",
          "text": [
            "(205, 14)\n"
          ]
        }
      ],
      "source": [
        "# To simplify the code, we will only use numeric features\n",
        "\n",
        "X = df.drop(columns=['symboling', 'normalizedlosses', 'numofcylinders', 'numofdoors'])\n",
        "X = X.select_dtypes(exclude=['object'])\n",
        "\n",
        "\n",
        "yreg = df.symboling\n",
        "ycla = yreg > 0\n",
        "\n",
        "print(X.shape)"
      ]
    },
    {
      "cell_type": "markdown",
      "metadata": {
        "id": "3i6HRNX6_Rv0"
      },
      "source": [
        "## Classificação"
      ]
    },
    {
      "cell_type": "code",
      "execution_count": 7,
      "metadata": {
        "id": "F2Jj5yQMzeoB"
      },
      "outputs": [],
      "source": [
        "from sklearn.neighbors import KNeighborsClassifier\n",
        "from sklearn.tree import DecisionTreeClassifier\n",
        "from sklearn.naive_bayes import GaussianNB\n",
        "from sklearn.svm import SVC\n",
        "from sklearn.neural_network import MLPClassifier\n",
        "\n",
        "from sklearn.pipeline import Pipeline\n",
        "\n",
        "from sklearn.impute import SimpleImputer\n",
        "from sklearn.preprocessing import MinMaxScaler, StandardScaler\n",
        "from sklearn.feature_selection import VarianceThreshold, SelectKBest\n",
        "from sklearn.decomposition import PCA\n",
        "\n",
        "from sklearn.model_selection import GridSearchCV, StratifiedKFold\n",
        "from sklearn.metrics import accuracy_score, precision_score, recall_score, f1_score\n",
        "from sklearn.metrics import make_scorer"
      ]
    },
    {
      "cell_type": "code",
      "execution_count": 8,
      "metadata": {
        "id": "KfxgDLw00yh2"
      },
      "outputs": [],
      "source": [
        "scorer = make_scorer(accuracy_score) # Teste outras\n",
        "\n",
        "cv = StratifiedKFold(n_splits=15, shuffle=True, random_state=SEED)\n",
        "gscv = StratifiedKFold(n_splits=3, shuffle=True, random_state=SEED)\n",
        "\n",
        "algorithms = {\n",
        "    'kNN':  GridSearchCV(\n",
        "        Pipeline([\n",
        "            ('imputer', SimpleImputer(strategy='mean')),\n",
        "            ('scaler', MinMaxScaler(feature_range=(0, 1))),\n",
        "            ('selector', VarianceThreshold()),\n",
        "            ('knn', KNeighborsClassifier())]),\n",
        "        param_grid={\n",
        "            'selector__threshold': [0, 0.01, 0.02, 0.03],\n",
        "            'knn__n_neighbors': [1, 3, 5],\n",
        "            'knn__p': [1, 2],\n",
        "        },\n",
        "        scoring=scorer,\n",
        "        cv=gscv),\n",
        "\n",
        "\n",
        "    'tree':  GridSearchCV(\n",
        "        Pipeline([\n",
        "            ('imputer', SimpleImputer(strategy='mean')),\n",
        "            ('tree', DecisionTreeClassifier(random_state=SEED))]),\n",
        "        param_grid={\n",
        "            'tree__max_depth': [5, 10, 20],\n",
        "            'tree__criterion': ['entropy', 'gini'],\n",
        "        },\n",
        "        scoring=scorer,\n",
        "        cv=gscv),\n",
        "\n",
        "\n",
        "    'bigtree':  GridSearchCV(\n",
        "        Pipeline([\n",
        "            ('imputer', SimpleImputer(strategy='mean')),\n",
        "            ('tree', DecisionTreeClassifier(max_depth=None, min_samples_split=2, random_state=SEED))]),\n",
        "        param_grid={\n",
        "            'tree__criterion': ['entropy', 'gini'],\n",
        "        },\n",
        "        scoring=scorer,\n",
        "        cv=gscv),\n",
        "\n",
        "\n",
        "    'nb': GridSearchCV(\n",
        "        Pipeline([\n",
        "            ('imputer', SimpleImputer(strategy='mean')),\n",
        "            ('selector', SelectKBest()),\n",
        "            ('nb', GaussianNB())]),\n",
        "        param_grid={\n",
        "            'selector__k': [3, 5, 10],\n",
        "        },\n",
        "        scoring=scorer,\n",
        "        cv=gscv),\n",
        "\n",
        "\n",
        "    'svmlinear': GridSearchCV(\n",
        "        Pipeline([\n",
        "            ('imputer', SimpleImputer(strategy='mean')),\n",
        "            ('scaler', StandardScaler()),\n",
        "            ('pca', PCA()),\n",
        "            ('svm', SVC(kernel='linear', random_state=SEED))]),\n",
        "        param_grid={\n",
        "            'pca__n_components': [2, 5, 10],\n",
        "            'svm__C': [1.0, 2.0],\n",
        "        },\n",
        "        scoring=scorer,\n",
        "        cv=gscv),\n",
        "\n",
        "        \n",
        "    'svmrbf': GridSearchCV(\n",
        "        Pipeline([\n",
        "            ('imputer', SimpleImputer(strategy='mean')),\n",
        "            ('scaler', StandardScaler()),\n",
        "            ('pca', PCA(random_state=SEED)),\n",
        "            ('svm', SVC(kernel='rbf', random_state=SEED))]),\n",
        "        param_grid={\n",
        "            'pca__n_components': [2, 5, 10],\n",
        "            'svm__C': [1.0, 2.0],\n",
        "            'svm__gamma': [0.1, 1.0, 2.0],\n",
        "        },\n",
        "        scoring=scorer,\n",
        "        cv=gscv),\n",
        "}"
      ]
    },
    {
      "cell_type": "code",
      "execution_count": 9,
      "metadata": {
        "id": "Xpvrx3kqyUii"
      },
      "outputs": [],
      "source": [
        "from sklearn.model_selection import cross_val_score\n",
        "\n",
        "result = {}\n",
        "for alg, clf in algorithms.items():\n",
        "  result[alg] = cross_val_score(clf, X, ycla, cv=cv)\n",
        "\n",
        "result = pd.DataFrame.from_dict(result)"
      ]
    },
    {
      "cell_type": "code",
      "execution_count": 10,
      "metadata": {
        "colab": {
          "base_uri": "https://localhost:8080/"
        },
        "id": "KMPeyps98u-h",
        "outputId": "bdcbe8e8-5eaf-4c3e-8af5-6ff20d491853"
      },
      "outputs": [
        {
          "name": "stdout",
          "output_type": "stream",
          "text": [
            "         kNN      tree   bigtree        nb  svmlinear    svmrbf\n",
            "0   0.714286  0.928571  0.928571  0.714286   0.642857  0.785714\n",
            "1   0.928571  1.000000  1.000000  0.785714   0.785714  0.928571\n",
            "2   0.714286  0.785714  0.928571  0.714286   0.714286  0.785714\n",
            "3   0.857143  0.785714  0.785714  0.714286   0.642857  0.857143\n",
            "4   0.785714  0.785714  0.785714  0.714286   0.642857  0.785714\n",
            "5   0.857143  0.785714  0.785714  0.785714   0.571429  0.857143\n",
            "6   1.000000  1.000000  1.000000  0.642857   0.714286  0.714286\n",
            "7   0.928571  1.000000  1.000000  0.785714   0.714286  0.785714\n",
            "8   0.785714  0.857143  0.857143  0.857143   0.714286  0.928571\n",
            "9   1.000000  0.928571  0.928571  0.857143   1.000000  1.000000\n",
            "10  1.000000  1.000000  1.000000  0.769231   0.846154  1.000000\n",
            "11  0.923077  0.769231  1.000000  0.615385   0.615385  0.769231\n",
            "12  1.000000  1.000000  1.000000  0.923077   0.923077  0.923077\n",
            "13  0.769231  0.923077  0.923077  0.846154   0.846154  0.769231\n",
            "14  0.846154  1.000000  1.000000  0.769231   0.615385  0.769231\n"
          ]
        }
      ],
      "source": [
        "print(result)"
      ]
    },
    {
      "cell_type": "code",
      "execution_count": 11,
      "metadata": {
        "colab": {
          "base_uri": "https://localhost:8080/"
        },
        "id": "SM30PiZ1-XGc",
        "outputId": "bd41c614-cd05-43ef-a5a0-72e6bbcef1a3"
      },
      "outputs": [
        {
          "data": {
            "text/plain": [
              "kNN          0.87 ± 0.10\n",
              "tree         0.90 ± 0.10\n",
              "bigtree      0.93 ± 0.09\n",
              "nb           0.77 ± 0.08\n",
              "svmlinear    0.73 ± 0.12\n",
              "svmrbf       0.84 ± 0.09\n",
              "dtype: object"
            ]
          },
          "execution_count": 11,
          "metadata": {},
          "output_type": "execute_result"
        }
      ],
      "source": [
        "result.apply(lambda x: \"{:.2f} ± {:.2f}\".format(x.mean(), x.std()))"
      ]
    },
    {
      "cell_type": "code",
      "execution_count": null,
      "metadata": {
        "colab": {
          "base_uri": "https://localhost:8080/",
          "height": 265
        },
        "id": "KP68kAyaFEt_",
        "outputId": "3221547c-f30b-43a7-b103-da7ce73c2964"
      },
      "outputs": [
        {
          "data": {
            "image/png": "[encoded data removed]",
            "text/plain": [
              "<Figure size 640x480 with 1 Axes>"
            ]
          },
          "metadata": {},
          "output_type": "display_data"
        }
      ],
      "source": [
        "import matplotlib.pyplot as plt\n",
        "\n",
        "plt.boxplot([ scores for alg, scores in result.items()])\n",
        "plt.xticks(1 + np.arange(result.shape[1]), result.columns)\n",
        "\n",
        "plt.axhline(1, linestyle=\"dotted\", color=\"green\")\n",
        "plt.ylim(0,1.05)  # Nao mentir com dados para os coleguinhas\n",
        "\n",
        "plt.show()"
      ]
    },
    {
      "cell_type": "markdown",
      "metadata": {
        "id": "0zlgn3fVDrQi"
      },
      "source": [
        "## Comparar desempenho (validar hipótese)"
      ]
    },
    {
      "cell_type": "code",
      "execution_count": 13,
      "metadata": {
        "id": "6WFFH35QDxR1"
      },
      "outputs": [],
      "source": [
        "from scipy.stats import wilcoxon"
      ]
    },
    {
      "cell_type": "code",
      "execution_count": 14,
      "metadata": {
        "colab": {
          "base_uri": "https://localhost:8080/"
        },
        "id": "5UrI5aU6D4ZC",
        "outputId": "6a7d3419-159e-4965-9ed6-792edde66a09"
      },
      "outputs": [
        {
          "data": {
            "text/plain": [
              "WilcoxonResult(statistic=np.float64(21.0), pvalue=np.float64(0.27131547988984783))"
            ]
          },
          "execution_count": 14,
          "metadata": {},
          "output_type": "execute_result"
        }
      ],
      "source": [
        "# Comparar dois algoritmos:\n",
        "wilcoxon(result.kNN, result.tree)"
      ]
    },
    {
      "cell_type": "code",
      "execution_count": 15,
      "metadata": {
        "id": "DLHdUzTYEGiH"
      },
      "outputs": [],
      "source": [
        "# Comparar todos contra todos: Friedman + Nemenyi (further reading), construir um diagrama de diferença crítica\n",
        "# Orange3"
      ]
    },
    {
      "cell_type": "markdown",
      "metadata": {
        "id": "RRUDVlyiDtuH"
      },
      "source": [
        "## Melhor modelo (deploying)"
      ]
    },
    {
      "cell_type": "code",
      "execution_count": 16,
      "metadata": {
        "colab": {
          "base_uri": "https://localhost:8080/"
        },
        "id": "1bgVLxH9Nyf5",
        "outputId": "34cd631b-4e08-4317-c44f-3a15e35ab1d3"
      },
      "outputs": [
        {
          "name": "stdout",
          "output_type": "stream",
          "text": [
            "Pipeline(steps=[('imputer', SimpleImputer()),\n",
            "                ('tree', DecisionTreeClassifier(random_state=17))])\n"
          ]
        }
      ],
      "source": [
        "classifier = algorithms['bigtree']\n",
        "classifier.fit(X, ycla) # Uso a base toda!\n",
        "print(classifier.best_estimator_)"
      ]
    },
    {
      "cell_type": "code",
      "execution_count": 17,
      "metadata": {
        "colab": {
          "base_uri": "https://localhost:8080/"
        },
        "id": "GT4rioUGNixI",
        "outputId": "9f0fffe1-2c39-408e-a553-90c48ad363b2"
      },
      "outputs": [
        {
          "name": "stdout",
          "output_type": "stream",
          "text": [
            "   wheelbase  length  width  height  curbweight  enginesize  bore  stroke  \\\n",
            "0       88.6   168.8   64.1    48.8        2548         130  3.47    2.68   \n",
            "\n",
            "   compressionratio  horsepower  peakrpm  citympg  highwaympg    price  \n",
            "0               9.0       111.0   5000.0       21          27  13495.0  \n"
          ]
        }
      ],
      "source": [
        "x = X.iloc[0:1, :]\n",
        "print(x) # Faz de conta que é novo"
      ]
    },
    {
      "cell_type": "code",
      "execution_count": 18,
      "metadata": {
        "colab": {
          "base_uri": "https://localhost:8080/"
        },
        "id": "XphiSnDpNewh",
        "outputId": "007a6100-1f9d-4e3c-e976-b86d430a0cfe"
      },
      "outputs": [
        {
          "data": {
            "text/plain": [
              "array([ True])"
            ]
          },
          "execution_count": 18,
          "metadata": {},
          "output_type": "execute_result"
        }
      ],
      "source": [
        "classifier.predict(x)"
      ]
    },
    {
      "cell_type": "markdown",
      "metadata": {
        "id": "XHxqT_ZqO2B0"
      },
      "source": [
        "### Um outro modelo"
      ]
    },
    {
      "cell_type": "code",
      "execution_count": 19,
      "metadata": {
        "colab": {
          "base_uri": "https://localhost:8080/"
        },
        "id": "wBx2lp6CO3ke",
        "outputId": "cd35e25b-b09b-4dfb-b37a-afb0fb312425"
      },
      "outputs": [
        {
          "name": "stdout",
          "output_type": "stream",
          "text": [
            "Pipeline(steps=[('imputer', SimpleImputer()), ('scaler', StandardScaler()),\n",
            "                ('pca', PCA(n_components=10, random_state=17)),\n",
            "                ('svm', SVC(gamma=1.0, random_state=17))])\n"
          ]
        }
      ],
      "source": [
        "classifier = algorithms['svmrbf']\n",
        "classifier.fit(X, ycla) # Uso a base toda\n",
        "print(classifier.best_estimator_)"
      ]
    },
    {
      "cell_type": "code",
      "execution_count": 20,
      "metadata": {
        "colab": {
          "base_uri": "https://localhost:8080/"
        },
        "id": "50YFEZEoPAQI",
        "outputId": "fda62756-2ad0-41fc-b9af-d11a0e9711d5"
      },
      "outputs": [
        {
          "name": "stdout",
          "output_type": "stream",
          "text": [
            "   wheelbase  length  width  height  curbweight  enginesize  bore  stroke  \\\n",
            "0       88.6   168.8   64.1    48.8        2548         130  3.47    2.68   \n",
            "\n",
            "   compressionratio  horsepower  peakrpm  citympg  highwaympg    price  \n",
            "0               9.0       111.0   5000.0       21          27  13495.0  \n",
            "   wheelbase  length  width  height  curbweight  enginesize  bore  stroke  \\\n",
            "0       88.6   168.8   64.1    48.8        2548         130  3.47    2.68   \n",
            "\n",
            "   compressionratio  horsepower  peakrpm  citympg  highwaympg  price  \n",
            "0               9.0       111.0   5000.0       21          27    NaN  \n"
          ]
        },
        {
          "data": {
            "text/plain": [
              "array([ True])"
            ]
          },
          "execution_count": 20,
          "metadata": {},
          "output_type": "execute_result"
        }
      ],
      "source": [
        "print(x)\n",
        "x.iloc[0, 13] = np.nan\n",
        "print(x)\n",
        "classifier.predict(x)"
      ]
    },
    {
      "cell_type": "markdown",
      "metadata": {
        "id": "fRfrZqkIB8x6"
      },
      "source": [
        "## Regressão"
      ]
    },
    {
      "cell_type": "code",
      "execution_count": 21,
      "metadata": {
        "id": "5y1MJV7uCbA3"
      },
      "outputs": [],
      "source": [
        "from sklearn.neighbors import KNeighborsRegressor\n",
        "from sklearn.tree import DecisionTreeRegressor\n",
        "from sklearn.svm import SVR\n",
        "from sklearn.neural_network import MLPRegressor\n",
        "\n",
        "from sklearn.pipeline import Pipeline\n",
        "\n",
        "from sklearn.impute import SimpleImputer\n",
        "from sklearn.preprocessing import MinMaxScaler, StandardScaler\n",
        "from sklearn.feature_selection import VarianceThreshold, SelectKBest\n",
        "from sklearn.decomposition import PCA\n",
        "\n",
        "from sklearn.model_selection import GridSearchCV, KFold\n",
        "from sklearn.metrics import mean_squared_error, mean_absolute_error\n",
        "from sklearn.metrics import make_scorer"
      ]
    },
    {
      "cell_type": "code",
      "execution_count": 22,
      "metadata": {
        "id": "g66E48CzDAHK"
      },
      "outputs": [],
      "source": [
        "scorer = make_scorer(mean_squared_error, greater_is_better=False)\n",
        "algorithms = {}"
      ]
    }
  ],
  "metadata": {
    "colab": {
      "provenance": []
    },
    "kernelspec": {
      "display_name": ".venv",
      "language": "python",
      "name": "python3"
    },
    "language_info": {
      "codemirror_mode": {
        "name": "ipython",
        "version": 3
      },
      "file_extension": ".py",
      "mimetype": "text/x-python",
      "name": "python",
      "nbconvert_exporter": "python",
      "pygments_lexer": "ipython3",
      "version": "3.11.8"
    }
  },
  "nbformat": 4,
  "nbformat_minor": 0
}
