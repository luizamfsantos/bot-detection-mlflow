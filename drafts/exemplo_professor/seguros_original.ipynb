{
  "nbformat": 4,
  "nbformat_minor": 0,
  "metadata": {
    "colab": {
      "provenance": []
    },
    "kernelspec": {
      "name": "python3",
      "display_name": "Python 3"
    }
  },
  "cells": [
    {
      "cell_type": "markdown",
      "metadata": {
        "id": "Yx-VxT_wzXi6"
      },
      "source": [
        "# Avaliação e validação de experimentos\n"
      ]
    },
    {
      "cell_type": "code",
      "metadata": {
        "id": "XOr-9WVsYEhE"
      },
      "source": [
        "import numpy as np # Numpy: biblioteca para manipular vetores e matrizes\n",
        "import pandas as pd # Pandas: biblioteca para manipular tabelas"
      ],
      "execution_count": null,
      "outputs": []
    },
    {
      "cell_type": "markdown",
      "metadata": {
        "id": "eRMkhwVvzH2W"
      },
      "source": [
        "Durante o curso, trabalharemos ba base de dados [Automobile](https://archive.ics.uci.edu/ml/datasets/Automobile) da UCI.  Esta base contém características de diversos automóveis e o risco (em termos de seguro) de cada um deles.  Consideraremos que as bases estão armazenadas em um arquivo [CSV](https://en.wikipedia.org/wiki/Comma-separated_values).\n",
        "\n",
        "> Não esqueça de carregar o arquivo `imports85.csv` antes de rodar o código abaixo."
      ]
    },
    {
      "cell_type": "code",
      "metadata": {
        "id": "trTRp35Yy-q7",
        "colab": {
          "base_uri": "https://localhost:8080/"
        },
        "outputId": "b6e8106d-e96b-4324-c1c5-d235681a9430"
      },
      "source": [
        "!ls"
      ],
      "execution_count": null,
      "outputs": [
        {
          "output_type": "stream",
          "name": "stdout",
          "text": [
            "imports85.csv  sample_data\n"
          ]
        }
      ]
    },
    {
      "cell_type": "code",
      "metadata": {
        "id": "16GH5n9j1T59",
        "colab": {
          "base_uri": "https://localhost:8080/"
        },
        "outputId": "c6f1e61c-a23f-4e8e-dc0b-b285a74b0dad"
      },
      "source": [
        "data = pd.read_csv('imports85.csv')\n",
        "print(data.shape)"
      ],
      "execution_count": null,
      "outputs": [
        {
          "output_type": "stream",
          "name": "stdout",
          "text": [
            "(205, 26)\n"
          ]
        }
      ]
    },
    {
      "cell_type": "code",
      "metadata": {
        "id": "vvAb7rI2WvXJ",
        "colab": {
          "base_uri": "https://localhost:8080/"
        },
        "outputId": "3d4e6b7e-de0d-4f74-d2a4-c80a215369c3"
      },
      "source": [
        "print(data.head())"
      ],
      "execution_count": null,
      "outputs": [
        {
          "output_type": "stream",
          "name": "stdout",
          "text": [
            "   symboling  normalizedlosses         make fueltype aspiration numofdoors  \\\n",
            "0          3               NaN  alfa-romero      gas        std        two   \n",
            "1          3               NaN  alfa-romero      gas        std        two   \n",
            "2          1               NaN  alfa-romero      gas        std        two   \n",
            "3          2             164.0         audi      gas        std       four   \n",
            "4          2             164.0         audi      gas        std       four   \n",
            "\n",
            "     bodystyle drivewheels enginelocation  wheelbase  ...  enginesize  \\\n",
            "0  convertible         rwd          front       88.6  ...         130   \n",
            "1  convertible         rwd          front       88.6  ...         130   \n",
            "2    hatchback         rwd          front       94.5  ...         152   \n",
            "3        sedan         fwd          front       99.8  ...         109   \n",
            "4        sedan         4wd          front       99.4  ...         136   \n",
            "\n",
            "   fuelsystem  bore  stroke compressionratio horsepower  peakrpm citympg  \\\n",
            "0        mpfi  3.47    2.68              9.0      111.0   5000.0      21   \n",
            "1        mpfi  3.47    2.68              9.0      111.0   5000.0      21   \n",
            "2        mpfi  2.68    3.47              9.0      154.0   5000.0      19   \n",
            "3        mpfi  3.19    3.40             10.0      102.0   5500.0      24   \n",
            "4        mpfi  3.19    3.40              8.0      115.0   5500.0      18   \n",
            "\n",
            "   highwaympg    price  \n",
            "0          27  13495.0  \n",
            "1          27  16500.0  \n",
            "2          26  16500.0  \n",
            "3          30  13950.0  \n",
            "4          22  17450.0  \n",
            "\n",
            "[5 rows x 26 columns]\n"
          ]
        }
      ]
    },
    {
      "cell_type": "code",
      "metadata": {
        "id": "mB6fuQG4Wyjr",
        "colab": {
          "base_uri": "https://localhost:8080/"
        },
        "outputId": "09e68a44-3eba-4040-a044-938b0ee24bf5"
      },
      "source": [
        "X = data.drop(columns=['symboling', 'normalizedlosses', 'numofcylinders', 'numofdoors'])\n",
        "# To simplify the code, we will only use numeric features\n",
        "X = X.select_dtypes(exclude=['object'])\n",
        "yreg = data.symboling\n",
        "ycla = yreg > 0\n",
        "\n",
        "print(X.shape)"
      ],
      "execution_count": null,
      "outputs": [
        {
          "output_type": "stream",
          "name": "stdout",
          "text": [
            "(205, 14)\n"
          ]
        }
      ]
    },
    {
      "cell_type": "code",
      "metadata": {
        "id": "PDwOJhnVzYn5"
      },
      "source": [
        "# Semente aleatória para reproducibilidade dos experimentos (reproducão dos experimentos)\n",
        "seed = 17"
      ],
      "execution_count": null,
      "outputs": []
    },
    {
      "cell_type": "markdown",
      "metadata": {
        "id": "3i6HRNX6_Rv0"
      },
      "source": [
        "## Classificação"
      ]
    },
    {
      "cell_type": "code",
      "metadata": {
        "id": "F2Jj5yQMzeoB"
      },
      "source": [
        "from sklearn.neighbors import KNeighborsClassifier\n",
        "from sklearn.tree import DecisionTreeClassifier\n",
        "from sklearn.naive_bayes import GaussianNB\n",
        "from sklearn.svm import SVC\n",
        "#from sklearn.neural_network import MLPClassifier\n",
        "\n",
        "from sklearn.pipeline import Pipeline\n",
        "\n",
        "from sklearn.impute import SimpleImputer\n",
        "from sklearn.preprocessing import MinMaxScaler, StandardScaler\n",
        "from sklearn.feature_selection import VarianceThreshold, SelectKBest\n",
        "from sklearn.decomposition import PCA\n",
        "\n",
        "from sklearn.model_selection import GridSearchCV, StratifiedKFold\n",
        "from sklearn.metrics import accuracy_score, precision_score, recall_score, f1_score\n",
        "from sklearn.metrics import make_scorer"
      ],
      "execution_count": null,
      "outputs": []
    },
    {
      "cell_type": "code",
      "metadata": {
        "id": "KfxgDLw00yh2"
      },
      "source": [
        "scorer = make_scorer(accuracy_score) # Teste outras\n",
        "\n",
        "cv = StratifiedKFold(n_splits=10, shuffle=True, random_state=seed)\n",
        "gscv = StratifiedKFold(n_splits=3, shuffle=True, random_state=seed)\n",
        "\n",
        "algorithms = {\n",
        "    'kNN':  GridSearchCV(\n",
        "        Pipeline([\n",
        "            ('imputer', SimpleImputer(strategy='mean')),\n",
        "            ('scaler', MinMaxScaler(feature_range=(0, 1))),\n",
        "            ('selector', VarianceThreshold()),\n",
        "            ('knn', KNeighborsClassifier())]),\n",
        "        param_grid={\n",
        "            'selector__threshold': [0, 0.01, 0.02, 0.03],\n",
        "            'knn__n_neighbors': [1, 3, 5],\n",
        "            'knn__p': [1, 2],\n",
        "        },\n",
        "        scoring=scorer,\n",
        "        cv=gscv),\n",
        "    'tree':  GridSearchCV(\n",
        "        Pipeline([\n",
        "            ('imputer', SimpleImputer(strategy='mean')),\n",
        "            ('tree', DecisionTreeClassifier(random_state=seed))]),\n",
        "        param_grid={\n",
        "            'tree__max_depth': [5, 10, 20],\n",
        "            'tree__criterion': ['entropy', 'gini'],\n",
        "        },\n",
        "        scoring=scorer,\n",
        "        cv=gscv),\n",
        "    'bigtree':  GridSearchCV(\n",
        "        Pipeline([\n",
        "            ('imputer', SimpleImputer(strategy='mean')),\n",
        "            ('tree', DecisionTreeClassifier(max_depth=None, min_samples_split=2, random_state=seed))]),\n",
        "        param_grid={\n",
        "            'tree__criterion': ['entropy', 'gini'],\n",
        "        },\n",
        "        scoring=scorer,\n",
        "        cv=gscv),\n",
        "    'nb': GridSearchCV(\n",
        "        Pipeline([\n",
        "            ('imputer', SimpleImputer(strategy='mean')),\n",
        "            ('selector', SelectKBest()),\n",
        "            ('nb', GaussianNB())]),\n",
        "        param_grid={\n",
        "            'selector__k': [3, 5, 10],\n",
        "        },\n",
        "        scoring=scorer,\n",
        "        cv=gscv),\n",
        "    'svmlinear': GridSearchCV(\n",
        "        Pipeline([\n",
        "            ('imputer', SimpleImputer(strategy='mean')),\n",
        "            ('scaler', StandardScaler()),\n",
        "            ('pca', PCA()),\n",
        "            ('svm', SVC(kernel='linear', random_state=seed))]),\n",
        "        param_grid={\n",
        "            'pca__n_components': [2, 5, 10],\n",
        "            'svm__C': [1.0, 2.0],\n",
        "        },\n",
        "        scoring=scorer,\n",
        "        cv=gscv),\n",
        "    'svmrbf': GridSearchCV(\n",
        "        Pipeline([\n",
        "            ('imputer', SimpleImputer(strategy='mean')),\n",
        "            ('scaler', StandardScaler()),\n",
        "            ('pca', PCA(random_state=seed)),\n",
        "            ('svm', SVC(kernel='rbf', random_state=seed))]),\n",
        "        param_grid={\n",
        "            'pca__n_components': [2, 5, 10],\n",
        "            'svm__C': [1.0, 2.0],\n",
        "            'svm__gamma': [0.1, 1.0, 2.0],\n",
        "        },\n",
        "        scoring=scorer,\n",
        "        cv=gscv),\n",
        "}"
      ],
      "execution_count": null,
      "outputs": []
    },
    {
      "cell_type": "code",
      "metadata": {
        "id": "Xpvrx3kqyUii"
      },
      "source": [
        "from sklearn.model_selection import cross_val_score\n",
        "\n",
        "result = {}\n",
        "for alg, clf in algorithms.items():\n",
        "  result[alg] = cross_val_score(clf, X, ycla, cv=cv)\n",
        "\n",
        "result = pd.DataFrame.from_dict(result)"
      ],
      "execution_count": null,
      "outputs": []
    },
    {
      "cell_type": "code",
      "metadata": {
        "id": "KMPeyps98u-h",
        "colab": {
          "base_uri": "https://localhost:8080/"
        },
        "outputId": "bdcbe8e8-5eaf-4c3e-8af5-6ff20d491853"
      },
      "source": [
        "print(result)"
      ],
      "execution_count": null,
      "outputs": [
        {
          "output_type": "stream",
          "name": "stdout",
          "text": [
            "        kNN      tree   bigtree        nb  svmlinear    svmrbf\n",
            "0  0.666667  0.952381  0.952381  0.666667   0.619048  0.571429\n",
            "1  0.809524  0.904762  0.904762  0.857143   0.761905  0.857143\n",
            "2  0.809524  0.809524  0.857143  0.714286   0.714286  0.761905\n",
            "3  0.857143  0.857143  0.904762  0.666667   0.666667  0.809524\n",
            "4  1.000000  0.904762  0.904762  0.761905   0.714286  0.809524\n",
            "5  0.800000  0.900000  0.900000  0.800000   0.800000  0.850000\n",
            "6  1.000000  0.850000  0.850000  0.850000   0.900000  1.000000\n",
            "7  0.950000  0.950000  0.950000  0.650000   0.700000  0.900000\n",
            "8  0.950000  0.850000  1.000000  0.950000   0.750000  0.900000\n",
            "9  0.850000  0.950000  0.950000  0.750000   0.750000  0.750000\n"
          ]
        }
      ]
    },
    {
      "cell_type": "code",
      "metadata": {
        "id": "SM30PiZ1-XGc",
        "colab": {
          "base_uri": "https://localhost:8080/"
        },
        "outputId": "bd41c614-cd05-43ef-a5a0-72e6bbcef1a3"
      },
      "source": [
        "result.apply(lambda x: \"{:.2f} ± {:.2f}\".format(x.mean(), x.std()))"
      ],
      "execution_count": null,
      "outputs": [
        {
          "output_type": "execute_result",
          "data": {
            "text/plain": [
              "kNN          0.87 ± 0.11\n",
              "tree         0.89 ± 0.05\n",
              "bigtree      0.92 ± 0.05\n",
              "nb           0.77 ± 0.10\n",
              "svmlinear    0.74 ± 0.08\n",
              "svmrbf       0.82 ± 0.11\n",
              "dtype: object"
            ]
          },
          "metadata": {},
          "execution_count": 11
        }
      ]
    },
    {
      "cell_type": "code",
      "metadata": {
        "id": "KP68kAyaFEt_",
        "colab": {
          "base_uri": "https://localhost:8080/",
          "height": 265
        },
        "outputId": "3221547c-f30b-43a7-b103-da7ce73c2964"
      },
      "source": [
        "import matplotlib.pyplot as plt\n",
        "\n",
        "plt.boxplot([ scores for alg, scores in result.iteritems() ])\n",
        "plt.xticks(1 + np.arange(result.shape[1]), result.columns)\n",
        "plt.show()"
      ],
      "execution_count": null,
      "outputs": [
        {
          "output_type": "display_data",
          "data": {
            "text/plain": [
              "<Figure size 432x288 with 1 Axes>"
            ],
            "image/png": "[encoded data removed]"
          },
          "metadata": {
            "needs_background": "light"
          }
        }
      ]
    },
    {
      "cell_type": "markdown",
      "metadata": {
        "id": "0zlgn3fVDrQi"
      },
      "source": [
        "## Comparar desempenho (validar hipótese)"
      ]
    },
    {
      "cell_type": "code",
      "metadata": {
        "id": "6WFFH35QDxR1"
      },
      "source": [
        "from scipy.stats import wilcoxon"
      ],
      "execution_count": null,
      "outputs": []
    },
    {
      "cell_type": "code",
      "metadata": {
        "id": "5UrI5aU6D4ZC",
        "colab": {
          "base_uri": "https://localhost:8080/"
        },
        "outputId": "6a7d3419-159e-4965-9ed6-792edde66a09"
      },
      "source": [
        "# Comparar dois algoritmos:\n",
        "wilcoxon(result.kNN, result.tree)"
      ],
      "execution_count": null,
      "outputs": [
        {
          "output_type": "stream",
          "name": "stderr",
          "text": [
            "/usr/local/lib/python3.7/dist-packages/scipy/stats/morestats.py:2879: UserWarning: Sample size too small for normal approximation.\n",
            "  warnings.warn(\"Sample size too small for normal approximation.\")\n"
          ]
        },
        {
          "output_type": "execute_result",
          "data": {
            "text/plain": [
              "WilcoxonResult(statistic=11.5, pvalue=0.6698153575994166)"
            ]
          },
          "metadata": {},
          "execution_count": 15
        }
      ]
    },
    {
      "cell_type": "code",
      "metadata": {
        "id": "DLHdUzTYEGiH"
      },
      "source": [
        "# Comparar todos contra todos: Friedman + Nemenyi (further reading), construir um diagrama de diferença crítica\n",
        "# Orange3"
      ],
      "execution_count": null,
      "outputs": []
    },
    {
      "cell_type": "markdown",
      "metadata": {
        "id": "RRUDVlyiDtuH"
      },
      "source": [
        "## Melhor modelo (deploying)"
      ]
    },
    {
      "cell_type": "code",
      "metadata": {
        "id": "1bgVLxH9Nyf5",
        "colab": {
          "base_uri": "https://localhost:8080/"
        },
        "outputId": "34cd631b-4e08-4317-c44f-3a15e35ab1d3"
      },
      "source": [
        "classifier = algorithms['bigtree']\n",
        "classifier.fit(X, ycla) # Uso a base toda!\n",
        "print(classifier.best_estimator_)"
      ],
      "execution_count": null,
      "outputs": [
        {
          "output_type": "stream",
          "name": "stdout",
          "text": [
            "Pipeline(steps=[('imputer', SimpleImputer()),\n",
            "                ('tree', DecisionTreeClassifier(random_state=17))])\n"
          ]
        }
      ]
    },
    {
      "cell_type": "code",
      "metadata": {
        "id": "GT4rioUGNixI",
        "colab": {
          "base_uri": "https://localhost:8080/"
        },
        "outputId": "9f0fffe1-2c39-408e-a553-90c48ad363b2"
      },
      "source": [
        "x = X.iloc[0:1, :]\n",
        "print(x) # Faz de conta que é novo"
      ],
      "execution_count": null,
      "outputs": [
        {
          "output_type": "stream",
          "name": "stdout",
          "text": [
            "   wheelbase  length  width  height  curbweight  enginesize  bore  stroke  \\\n",
            "0       88.6   168.8   64.1    48.8        2548         130  3.47    2.68   \n",
            "\n",
            "   compressionratio  horsepower  peakrpm  citympg  highwaympg    price  \n",
            "0               9.0       111.0   5000.0       21          27  13495.0  \n"
          ]
        }
      ]
    },
    {
      "cell_type": "code",
      "metadata": {
        "id": "XphiSnDpNewh",
        "colab": {
          "base_uri": "https://localhost:8080/"
        },
        "outputId": "007a6100-1f9d-4e3c-e976-b86d430a0cfe"
      },
      "source": [
        "classifier.predict(x)"
      ],
      "execution_count": null,
      "outputs": [
        {
          "output_type": "execute_result",
          "data": {
            "text/plain": [
              "array([ True])"
            ]
          },
          "metadata": {},
          "execution_count": 19
        }
      ]
    },
    {
      "cell_type": "markdown",
      "metadata": {
        "id": "XHxqT_ZqO2B0"
      },
      "source": [
        "### Um outro modelo"
      ]
    },
    {
      "cell_type": "code",
      "metadata": {
        "id": "wBx2lp6CO3ke",
        "colab": {
          "base_uri": "https://localhost:8080/"
        },
        "outputId": "cd35e25b-b09b-4dfb-b37a-afb0fb312425"
      },
      "source": [
        "classifier = algorithms['svmrbf']\n",
        "classifier.fit(X, ycla) # Uso a base toda\n",
        "print(classifier.best_estimator_)"
      ],
      "execution_count": null,
      "outputs": [
        {
          "output_type": "stream",
          "name": "stdout",
          "text": [
            "Pipeline(steps=[('imputer', SimpleImputer()), ('scaler', StandardScaler()),\n",
            "                ('pca', PCA(n_components=10, random_state=17)),\n",
            "                ('svm', SVC(gamma=1.0, random_state=17))])\n"
          ]
        }
      ]
    },
    {
      "cell_type": "code",
      "metadata": {
        "id": "50YFEZEoPAQI",
        "colab": {
          "base_uri": "https://localhost:8080/"
        },
        "outputId": "fda62756-2ad0-41fc-b9af-d11a0e9711d5"
      },
      "source": [
        "print(x)\n",
        "x.iloc[0, 13] = np.nan\n",
        "print(x)\n",
        "classifier.predict(x)"
      ],
      "execution_count": null,
      "outputs": [
        {
          "output_type": "stream",
          "name": "stdout",
          "text": [
            "   wheelbase  length  width  height  curbweight  enginesize  bore  stroke  \\\n",
            "0       88.6   168.8   64.1    48.8        2548         130  3.47    2.68   \n",
            "\n",
            "   compressionratio  horsepower  peakrpm  citympg  highwaympg    price  \n",
            "0               9.0       111.0   5000.0       21          27  13495.0  \n",
            "   wheelbase  length  width  height  curbweight  enginesize  bore  stroke  \\\n",
            "0       88.6   168.8   64.1    48.8        2548         130  3.47    2.68   \n",
            "\n",
            "   compressionratio  horsepower  peakrpm  citympg  highwaympg  price  \n",
            "0               9.0       111.0   5000.0       21          27    NaN  \n"
          ]
        },
        {
          "output_type": "stream",
          "name": "stderr",
          "text": [
            "/usr/local/lib/python3.7/dist-packages/pandas/core/indexing.py:1817: SettingWithCopyWarning: \n",
            "A value is trying to be set on a copy of a slice from a DataFrame.\n",
            "Try using .loc[row_indexer,col_indexer] = value instead\n",
            "\n",
            "See the caveats in the documentation: https://pandas.pydata.org/pandas-docs/stable/user_guide/indexing.html#returning-a-view-versus-a-copy\n",
            "  self._setitem_single_column(loc, value, pi)\n"
          ]
        },
        {
          "output_type": "execute_result",
          "data": {
            "text/plain": [
              "array([ True])"
            ]
          },
          "metadata": {},
          "execution_count": 21
        }
      ]
    },
    {
      "cell_type": "markdown",
      "metadata": {
        "id": "fRfrZqkIB8x6"
      },
      "source": [
        "## Regressão"
      ]
    },
    {
      "cell_type": "code",
      "metadata": {
        "id": "5y1MJV7uCbA3"
      },
      "source": [
        "from sklearn.neighbors import KNeighborsRegressor\n",
        "from sklearn.tree import DecisionTreeRegressor\n",
        "from sklearn.svm import SVR\n",
        "from sklearn.neural_network import MLPRegressor\n",
        "\n",
        "from sklearn.pipeline import Pipeline\n",
        "\n",
        "from sklearn.impute import SimpleImputer\n",
        "from sklearn.preprocessing import MinMaxScaler, StandardScaler\n",
        "from sklearn.feature_selection import VarianceThreshold, SelectKBest\n",
        "from sklearn.decomposition import PCA\n",
        "\n",
        "from sklearn.model_selection import GridSearchCV, KFold\n",
        "from sklearn.metrics import mean_squared_error, mean_absolute_error\n",
        "from sklearn.metrics import make_scorer"
      ],
      "execution_count": null,
      "outputs": []
    },
    {
      "cell_type": "code",
      "metadata": {
        "id": "g66E48CzDAHK"
      },
      "source": [
        "scorer = make_scorer(mean_squared_error, greater_is_better=False)\n",
        "algorithms = {}"
      ],
      "execution_count": null,
      "outputs": []
    }
  ]
}